{
 "cells": [
  {
   "cell_type": "markdown",
   "id": "68bdd515",
   "metadata": {},
   "source": [
    "## TODO: \n",
    "- Run another time the algorithm but checking that the entry doesn't have a previous computed location"
   ]
  },
  {
   "cell_type": "markdown",
   "id": "80864b02",
   "metadata": {},
   "source": [
    "## This file will calculate the latitude and longitude given a location "
   ]
  },
  {
   "cell_type": "code",
   "execution_count": 246,
   "id": "a862ffee",
   "metadata": {},
   "outputs": [],
   "source": [
    "import pandas as pd, ast\n",
    "import numpy as np \n",
    "from functools import cache \n",
    "from geopy.geocoders import Nominatim\n",
    "from geopy.extra.rate_limiter import RateLimiter\n",
    "import time"
   ]
  },
  {
   "cell_type": "code",
   "execution_count": 247,
   "id": "6fc4128f",
   "metadata": {},
   "outputs": [],
   "source": [
    "df = pd.read_csv(\"../working_data/properties_vlc.csv\") \n",
    "df[\"location\"] = df[\"location\"].apply(ast.literal_eval)"
   ]
  },
  {
   "cell_type": "code",
   "execution_count": 248,
   "id": "85eefd9c",
   "metadata": {},
   "outputs": [],
   "source": [
    "df.dropna(subset = \"price\", inplace = True)"
   ]
  },
  {
   "cell_type": "code",
   "execution_count": 249,
   "id": "dd138a18",
   "metadata": {},
   "outputs": [
    {
     "data": {
      "text/plain": [
       "False"
      ]
     },
     "execution_count": 249,
     "metadata": {},
     "output_type": "execute_result"
    }
   ],
   "source": [
    "df.loc[df.location.apply(len) == 1, \"location\"].iloc[0] == [\"\"]"
   ]
  },
  {
   "cell_type": "code",
   "execution_count": 250,
   "id": "b06cdc5c",
   "metadata": {},
   "outputs": [
    {
     "data": {
      "text/plain": [
       "1"
      ]
     },
     "execution_count": 250,
     "metadata": {},
     "output_type": "execute_result"
    }
   ],
   "source": [
    "df.loc[df[\"location\"].apply(lambda x: \"\".join(x)).str.contains(\"València\") == False, \"location\"].shape[0]"
   ]
  },
  {
   "cell_type": "code",
   "execution_count": 251,
   "id": "62f09f5b",
   "metadata": {},
   "outputs": [],
   "source": [
    "geolocator = Nominatim(user_agent=\"valencia_price_predictor\")\n",
    "geocode = RateLimiter(geolocator.geocode, min_delay_seconds=1, max_retries = 3, error_wait_seconds = 2, swallow_exceptions= False)"
   ]
  },
  {
   "cell_type": "code",
   "execution_count": 252,
   "id": "404b17e1",
   "metadata": {},
   "outputs": [
    {
     "data": {
      "text/plain": [
       "((39.4697065, -0.3763353), True)"
      ]
     },
     "execution_count": 252,
     "metadata": {},
     "output_type": "execute_result"
    }
   ],
   "source": [
    "default = geolocator.geocode(\"Valencia, València\")\n",
    "default = (default.latitude, default.longitude)\n",
    "default, geolocator.geocode(\"Valencia, València\") == geolocator.geocode(\"València, España\")"
   ]
  },
  {
   "cell_type": "markdown",
   "id": "d1fc5e12",
   "metadata": {},
   "source": [
    "#### The problem with adding the center as the default value is that if you run a clustering algorithm, there's a lot of properties that will get that cluster without being there. So they might have a predicted price above the real one, as the center of the city is one of the most look after place to live and for the properites that where actually in the center, the predicted price will be lower. \n",
    "\n",
    "I need to find a way to know when an address is very general and it doesn't represent the real location of the property. I think the easiest way is to turn the default address to NaN, as there's not gonna be a real property with that exact longitude and latitude. "
   ]
  },
  {
   "cell_type": "code",
   "execution_count": 253,
   "id": "6378e89e",
   "metadata": {},
   "outputs": [],
   "source": [
    "@cache \n",
    "def cached_geocode(address): \n",
    "    loc = geolocator.geocode(address)\n",
    "    if loc: \n",
    "        return (loc.latitude, loc.longitude)\n",
    "    else: \n",
    "        raise ValueError(\"No location found\")"
   ]
  },
  {
   "cell_type": "code",
   "execution_count": 254,
   "id": "8b465c45",
   "metadata": {},
   "outputs": [],
   "source": [
    "def non_cached_geocode(address): \n",
    "    loc = geolocator.geocode(address)\n",
    "    if loc: \n",
    "        return (loc.latitude, loc.longitude)\n",
    "    else: \n",
    "        raise ValueError(\"No location found\")"
   ]
  },
  {
   "cell_type": "code",
   "execution_count": 256,
   "id": "9450f700",
   "metadata": {},
   "outputs": [],
   "source": [
    "def selective_geocode(location): #Going from most specific location to more general \n",
    "    address = \", \".join(location) + \", España\" #Idealista doesn't store the country, as every country has a different Idealista site\n",
    "    first = True\n",
    "    while \",\" in address:  \n",
    "        if first: \n",
    "            first = False \n",
    "        else: \n",
    "            address = address.split(\", \", 1)[1].strip()\n",
    "            if address[0].isdigit():  \n",
    "                continue \n",
    "        try: \n",
    "            if len(address) < 50: \n",
    "                return cached_geocode(address)\n",
    "            else:\n",
    "                return non_cached_geocode(address)\n",
    "        except Exception as e: \n",
    "            pass \n",
    "            \n",
    "    return (np.nan, np.nan) "
   ]
  },
  {
   "cell_type": "markdown",
   "id": "8bd0928c",
   "metadata": {},
   "source": [
    "#### Handling Caching with Exceptions \n",
    "\n",
    "If you cache automatically using Python functools library, it caches every value returned, so if you return np.nan comming from an Exception, it won't matter, it will be stored and subsequent calls with have that value, and the exception could be raised because you loose connection with the server, rate liming or other factors you don't control. So my solution to avoid this functionality, is to determine a number of retries before caching when the value comes from an exception. "
   ]
  },
  {
   "cell_type": "code",
   "execution_count": 259,
   "id": "b0d47e21",
   "metadata": {},
   "outputs": [],
   "source": [
    "df[\"latitude\"], df[\"longitude\"] = zip(*df[\"location\"].apply(selective_geocode))"
   ]
  },
  {
   "cell_type": "code",
   "execution_count": 261,
   "id": "56e9a32f",
   "metadata": {},
   "outputs": [
    {
     "data": {
      "text/plain": [
       "914"
      ]
     },
     "execution_count": 261,
     "metadata": {},
     "output_type": "execute_result"
    }
   ],
   "source": [
    "df.loc[(df[\"latitude\"] == default[0]) & (df[\"longitude\"] == default[1]), [\"latitude\", \"longitude\"]].shape[0]"
   ]
  },
  {
   "cell_type": "code",
   "execution_count": 262,
   "id": "5bfda43b",
   "metadata": {},
   "outputs": [],
   "source": [
    "df.loc[(df[\"latitude\"] == default[0]) & (df[\"longitude\"] == default[1]), [\"latitude\", \"longitude\"]] = np.nan"
   ]
  },
  {
   "cell_type": "code",
   "execution_count": 263,
   "id": "8c5ebf60",
   "metadata": {},
   "outputs": [],
   "source": [
    "df[[\"latitude\", \"longitude\"]].to_csv(\"../working_data/lat_lon3_vlc.csv\", index = False)"
   ]
  },
  {
   "cell_type": "code",
   "execution_count": 264,
   "id": "997bc8fa",
   "metadata": {},
   "outputs": [
    {
     "data": {
      "text/plain": [
       "CacheInfo(hits=12839, misses=495, maxsize=None, currsize=319)"
      ]
     },
     "execution_count": 264,
     "metadata": {},
     "output_type": "execute_result"
    }
   ],
   "source": [
    "cached_geocode.cache_info()"
   ]
  },
  {
   "cell_type": "code",
   "execution_count": 270,
   "id": "14616eb9",
   "metadata": {},
   "outputs": [
    {
     "data": {
      "text/html": [
       "<div>\n",
       "<style scoped>\n",
       "    .dataframe tbody tr th:only-of-type {\n",
       "        vertical-align: middle;\n",
       "    }\n",
       "\n",
       "    .dataframe tbody tr th {\n",
       "        vertical-align: top;\n",
       "    }\n",
       "\n",
       "    .dataframe thead th {\n",
       "        text-align: right;\n",
       "    }\n",
       "</style>\n",
       "<table border=\"1\" class=\"dataframe\">\n",
       "  <thead>\n",
       "    <tr style=\"text-align: right;\">\n",
       "      <th></th>\n",
       "      <th>latitude</th>\n",
       "      <th>longitude</th>\n",
       "      <th>location</th>\n",
       "    </tr>\n",
       "  </thead>\n",
       "  <tbody>\n",
       "    <tr>\n",
       "      <th>127</th>\n",
       "      <td>NaN</td>\n",
       "      <td>NaN</td>\n",
       "      <td>[L'Horta Sud, València]</td>\n",
       "    </tr>\n",
       "    <tr>\n",
       "      <th>2053</th>\n",
       "      <td>NaN</td>\n",
       "      <td>NaN</td>\n",
       "      <td>[Valencia, València]</td>\n",
       "    </tr>\n",
       "    <tr>\n",
       "      <th>2055</th>\n",
       "      <td>NaN</td>\n",
       "      <td>NaN</td>\n",
       "      <td>[Valencia, València]</td>\n",
       "    </tr>\n",
       "    <tr>\n",
       "      <th>2122</th>\n",
       "      <td>NaN</td>\n",
       "      <td>NaN</td>\n",
       "      <td>[Valencia, València]</td>\n",
       "    </tr>\n",
       "    <tr>\n",
       "      <th>2129</th>\n",
       "      <td>NaN</td>\n",
       "      <td>NaN</td>\n",
       "      <td>[Valencia, València]</td>\n",
       "    </tr>\n",
       "    <tr>\n",
       "      <th>...</th>\n",
       "      <td>...</td>\n",
       "      <td>...</td>\n",
       "      <td>...</td>\n",
       "    </tr>\n",
       "    <tr>\n",
       "      <th>20797</th>\n",
       "      <td>NaN</td>\n",
       "      <td>NaN</td>\n",
       "      <td>[Barrio La Raiosa, Distrito Jesús, València, V...</td>\n",
       "    </tr>\n",
       "    <tr>\n",
       "      <th>20798</th>\n",
       "      <td>NaN</td>\n",
       "      <td>NaN</td>\n",
       "      <td>[carcagente, 14, Barrio La Raiosa, Distrito Je...</td>\n",
       "    </tr>\n",
       "    <tr>\n",
       "      <th>20800</th>\n",
       "      <td>NaN</td>\n",
       "      <td>NaN</td>\n",
       "      <td>[Valencia, València]</td>\n",
       "    </tr>\n",
       "    <tr>\n",
       "      <th>20804</th>\n",
       "      <td>NaN</td>\n",
       "      <td>NaN</td>\n",
       "      <td>[Valencia, València]</td>\n",
       "    </tr>\n",
       "    <tr>\n",
       "      <th>20805</th>\n",
       "      <td>NaN</td>\n",
       "      <td>NaN</td>\n",
       "      <td>[Valencia, València]</td>\n",
       "    </tr>\n",
       "  </tbody>\n",
       "</table>\n",
       "<p>914 rows × 3 columns</p>\n",
       "</div>"
      ],
      "text/plain": [
       "       latitude  longitude                                           location\n",
       "127         NaN        NaN                            [L'Horta Sud, València]\n",
       "2053        NaN        NaN                               [Valencia, València]\n",
       "2055        NaN        NaN                               [Valencia, València]\n",
       "2122        NaN        NaN                               [Valencia, València]\n",
       "2129        NaN        NaN                               [Valencia, València]\n",
       "...         ...        ...                                                ...\n",
       "20797       NaN        NaN  [Barrio La Raiosa, Distrito Jesús, València, V...\n",
       "20798       NaN        NaN  [carcagente, 14, Barrio La Raiosa, Distrito Je...\n",
       "20800       NaN        NaN                               [Valencia, València]\n",
       "20804       NaN        NaN                               [Valencia, València]\n",
       "20805       NaN        NaN                               [Valencia, València]\n",
       "\n",
       "[914 rows x 3 columns]"
      ]
     },
     "execution_count": 270,
     "metadata": {},
     "output_type": "execute_result"
    }
   ],
   "source": [
    "df.loc[df[\"latitude\"].isna(), [\"latitude\", \"longitude\", \"location\"]]"
   ]
  },
  {
   "cell_type": "code",
   "execution_count": null,
   "id": "58e8b278",
   "metadata": {},
   "outputs": [],
   "source": []
  }
 ],
 "metadata": {
  "kernelspec": {
   "display_name": "data_env",
   "language": "python",
   "name": "python3"
  },
  "language_info": {
   "codemirror_mode": {
    "name": "ipython",
    "version": 3
   },
   "file_extension": ".py",
   "mimetype": "text/x-python",
   "name": "python",
   "nbconvert_exporter": "python",
   "pygments_lexer": "ipython3",
   "version": "3.12.7"
  }
 },
 "nbformat": 4,
 "nbformat_minor": 5
}
