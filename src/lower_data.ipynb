{
 "cells": [
  {
   "cell_type": "markdown",
   "id": "e353c40f",
   "metadata": {},
   "source": [
    "### This file turns every feature column into lowercase"
   ]
  },
  {
   "cell_type": "code",
   "execution_count": 25,
   "id": "fe79bc32",
   "metadata": {},
   "outputs": [],
   "source": [
    "import pandas as pd "
   ]
  },
  {
   "cell_type": "code",
   "execution_count": 26,
   "id": "0704ff90",
   "metadata": {},
   "outputs": [],
   "source": [
    "df_vlc = pd.read_csv(\"../working_data/properties_partial_vlc.csv\")"
   ]
  },
  {
   "cell_type": "code",
   "execution_count": 27,
   "id": "47714fb4",
   "metadata": {},
   "outputs": [
    {
     "data": {
      "text/plain": [
       "Index(['title', 'price', 'discount', 'comment', 'features', 'tags', 'details',\n",
       "       'location', 'energia', 'id'],\n",
       "      dtype='object')"
      ]
     },
     "execution_count": 27,
     "metadata": {},
     "output_type": "execute_result"
    }
   ],
   "source": [
    "df_vlc.columns"
   ]
  },
  {
   "cell_type": "code",
   "execution_count": 28,
   "id": "c97811e4",
   "metadata": {},
   "outputs": [],
   "source": [
    "lower_columns = [\"title\", \"price\", \"comment\", \"features\", \"tags\", \"details\"]"
   ]
  },
  {
   "cell_type": "code",
   "execution_count": 29,
   "id": "8d12d420",
   "metadata": {},
   "outputs": [],
   "source": [
    "def convert_lower(row):  \n",
    "    if isinstance(row, list): \n",
    "        for i in range(len(row)): \n",
    "            row[i] = row[i].lower() \n",
    "        return row \n",
    "    elif isinstance(row, str): \n",
    "        return row.lower()\n"
   ]
  },
  {
   "cell_type": "code",
   "execution_count": 30,
   "id": "330ea254",
   "metadata": {},
   "outputs": [],
   "source": [
    "for col in lower_columns: \n",
    "    df_vlc[col] = df_vlc[col].apply(lambda x: convert_lower(x))"
   ]
  },
  {
   "cell_type": "code",
   "execution_count": 31,
   "id": "96926875",
   "metadata": {},
   "outputs": [
    {
     "data": {
      "text/html": [
       "<div>\n",
       "<style scoped>\n",
       "    .dataframe tbody tr th:only-of-type {\n",
       "        vertical-align: middle;\n",
       "    }\n",
       "\n",
       "    .dataframe tbody tr th {\n",
       "        vertical-align: top;\n",
       "    }\n",
       "\n",
       "    .dataframe thead th {\n",
       "        text-align: right;\n",
       "    }\n",
       "</style>\n",
       "<table border=\"1\" class=\"dataframe\">\n",
       "  <thead>\n",
       "    <tr style=\"text-align: right;\">\n",
       "      <th></th>\n",
       "      <th>title</th>\n",
       "      <th>price</th>\n",
       "      <th>discount</th>\n",
       "      <th>comment</th>\n",
       "      <th>features</th>\n",
       "      <th>tags</th>\n",
       "      <th>details</th>\n",
       "      <th>location</th>\n",
       "      <th>energia</th>\n",
       "      <th>id</th>\n",
       "    </tr>\n",
       "  </thead>\n",
       "  <tbody>\n",
       "    <tr>\n",
       "      <th>0</th>\n",
       "      <td>casa de pueblo en venta en calle portal, 15</td>\n",
       "      <td>100.000€</td>\n",
       "      <td>0%</td>\n",
       "      <td>oportunidad! casa en perfecto estado, muy lumi...</td>\n",
       "      <td>['275 m²', '7 hab.', 'garaje incluido', 'garaj...</td>\n",
       "      <td>['']</td>\n",
       "      <td>['casa de pueblo', '3 plantas', '275 m² constr...</td>\n",
       "      <td>['Calle Portal, 15', 'Ademuz', 'El Rincón de A...</td>\n",
       "      <td>['']</td>\n",
       "      <td>91351352.0</td>\n",
       "    </tr>\n",
       "    <tr>\n",
       "      <th>1</th>\n",
       "      <td>piso en venta en plaza de la iglesia, 1</td>\n",
       "      <td>79.000€</td>\n",
       "      <td>0%</td>\n",
       "      <td>fantastico oportunidad tanto ideal para un neg...</td>\n",
       "      <td>['126 m²', '3 hab.', 'bajo exterior sin ascens...</td>\n",
       "      <td>['']</td>\n",
       "      <td>['126 m² construidos', '3 habitaciones', '2 ba...</td>\n",
       "      <td>['Plaza DE LA IGLESIA, 1', 'Ademuz', 'El Rincó...</td>\n",
       "      <td>['']</td>\n",
       "      <td>100853767.0</td>\n",
       "    </tr>\n",
       "    <tr>\n",
       "      <th>2</th>\n",
       "      <td>casa de pueblo en venta en calle horno, 11</td>\n",
       "      <td>27.000€</td>\n",
       "      <td>0%</td>\n",
       "      <td>se vende casa en ademuz que da a calle muro y ...</td>\n",
       "      <td>['190 m²', '3 hab.']</td>\n",
       "      <td>['']</td>\n",
       "      <td>['casa de pueblo', '5 plantas', '190 m² constr...</td>\n",
       "      <td>['Calle Horno, 11', 'Ademuz', 'El Rincón de Ad...</td>\n",
       "      <td>['c', 'b', True]</td>\n",
       "      <td>105986330.0</td>\n",
       "    </tr>\n",
       "    <tr>\n",
       "      <th>3</th>\n",
       "      <td>finca rústica en venta en calle vallado, 46</td>\n",
       "      <td>7.900€</td>\n",
       "      <td>0%</td>\n",
       "      <td>¡gran oportunidad en ademuz, valencia!propieda...</td>\n",
       "      <td>['90 m²', '1 hab.']</td>\n",
       "      <td>['']</td>\n",
       "      <td>['finca rústica', '90 m² construidos', '1 habi...</td>\n",
       "      <td>['Calle Vallado, 46', 'Ademuz', 'El Rincón de ...</td>\n",
       "      <td>['']</td>\n",
       "      <td>107282569.0</td>\n",
       "    </tr>\n",
       "    <tr>\n",
       "      <th>4</th>\n",
       "      <td>None</td>\n",
       "      <td>None</td>\n",
       "      <td>NaN</td>\n",
       "      <td>None</td>\n",
       "      <td>['']</td>\n",
       "      <td>['']</td>\n",
       "      <td>['']</td>\n",
       "      <td>['']</td>\n",
       "      <td>['']</td>\n",
       "      <td>107977318.0</td>\n",
       "    </tr>\n",
       "  </tbody>\n",
       "</table>\n",
       "</div>"
      ],
      "text/plain": [
       "                                         title     price discount  \\\n",
       "0  casa de pueblo en venta en calle portal, 15  100.000€       0%   \n",
       "1      piso en venta en plaza de la iglesia, 1   79.000€       0%   \n",
       "2   casa de pueblo en venta en calle horno, 11   27.000€       0%   \n",
       "3  finca rústica en venta en calle vallado, 46    7.900€       0%   \n",
       "4                                         None      None      NaN   \n",
       "\n",
       "                                             comment  \\\n",
       "0  oportunidad! casa en perfecto estado, muy lumi...   \n",
       "1  fantastico oportunidad tanto ideal para un neg...   \n",
       "2  se vende casa en ademuz que da a calle muro y ...   \n",
       "3  ¡gran oportunidad en ademuz, valencia!propieda...   \n",
       "4                                               None   \n",
       "\n",
       "                                            features  tags  \\\n",
       "0  ['275 m²', '7 hab.', 'garaje incluido', 'garaj...  ['']   \n",
       "1  ['126 m²', '3 hab.', 'bajo exterior sin ascens...  ['']   \n",
       "2                               ['190 m²', '3 hab.']  ['']   \n",
       "3                                ['90 m²', '1 hab.']  ['']   \n",
       "4                                               ['']  ['']   \n",
       "\n",
       "                                             details  \\\n",
       "0  ['casa de pueblo', '3 plantas', '275 m² constr...   \n",
       "1  ['126 m² construidos', '3 habitaciones', '2 ba...   \n",
       "2  ['casa de pueblo', '5 plantas', '190 m² constr...   \n",
       "3  ['finca rústica', '90 m² construidos', '1 habi...   \n",
       "4                                               ['']   \n",
       "\n",
       "                                            location           energia  \\\n",
       "0  ['Calle Portal, 15', 'Ademuz', 'El Rincón de A...              ['']   \n",
       "1  ['Plaza DE LA IGLESIA, 1', 'Ademuz', 'El Rincó...              ['']   \n",
       "2  ['Calle Horno, 11', 'Ademuz', 'El Rincón de Ad...  ['c', 'b', True]   \n",
       "3  ['Calle Vallado, 46', 'Ademuz', 'El Rincón de ...              ['']   \n",
       "4                                               ['']              ['']   \n",
       "\n",
       "            id  \n",
       "0   91351352.0  \n",
       "1  100853767.0  \n",
       "2  105986330.0  \n",
       "3  107282569.0  \n",
       "4  107977318.0  "
      ]
     },
     "execution_count": 31,
     "metadata": {},
     "output_type": "execute_result"
    }
   ],
   "source": [
    "df_vlc.head()"
   ]
  },
  {
   "cell_type": "code",
   "execution_count": 32,
   "id": "d2016599",
   "metadata": {},
   "outputs": [],
   "source": [
    "df_vlc.to_csv(\"../working_data/properties_vlc.csv\", index = False)"
   ]
  },
  {
   "cell_type": "code",
   "execution_count": null,
   "id": "25c697a5",
   "metadata": {},
   "outputs": [],
   "source": []
  }
 ],
 "metadata": {
  "kernelspec": {
   "display_name": "data_env",
   "language": "python",
   "name": "python3"
  },
  "language_info": {
   "codemirror_mode": {
    "name": "ipython",
    "version": 3
   },
   "file_extension": ".py",
   "mimetype": "text/x-python",
   "name": "python",
   "nbconvert_exporter": "python",
   "pygments_lexer": "ipython3",
   "version": "3.12.7"
  }
 },
 "nbformat": 4,
 "nbformat_minor": 5
}
