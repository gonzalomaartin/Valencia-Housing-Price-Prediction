{
 "cells": [
  {
   "cell_type": "markdown",
   "id": "593fb1f6",
   "metadata": {},
   "source": [
    "#### This file is going to deal with training a model to predict property price "
   ]
  },
  {
   "cell_type": "code",
   "execution_count": 67,
   "id": "0c010fe3",
   "metadata": {},
   "outputs": [],
   "source": [
    "import pandas as pd \n",
    "import matplotlib.pyplot as plt \n",
    "import numpy as np \n",
    "from sklearn.model_selection import train_test_split\n",
    "from sklearn.linear_model import LinearRegression, Ridge, Lasso\n",
    "from sklearn.model_selection import GridSearchCV\n",
    "from sklearn.ensemble import RandomForestRegressor \n",
    "from xgboost import XGBRegressor \n",
    "from sklearn.metrics import mean_squared_error, mean_absolute_error, make_scorer \n",
    "from sklearn.preprocessing import StandardScaler, OneHotEncoder"
   ]
  },
  {
   "cell_type": "code",
   "execution_count": 68,
   "id": "d1aec76d",
   "metadata": {},
   "outputs": [],
   "source": [
    "df_vlc = pd.read_csv(\"../working_data/properties_vlc_clean.csv\")"
   ]
  },
  {
   "cell_type": "code",
   "execution_count": 69,
   "id": "d99d7a9b",
   "metadata": {},
   "outputs": [],
   "source": [
    "X = df_vlc.drop(columns = [\"price\"])\n",
    "y = df_vlc[\"price\"]"
   ]
  },
  {
   "cell_type": "code",
   "execution_count": 70,
   "id": "d6eb3dea",
   "metadata": {},
   "outputs": [],
   "source": [
    "boolean_columns = []\n",
    "one_hot_columns = [\"location_cluster\"]\n",
    "integer_columns = []\n",
    "\n",
    "for column in df_vlc.columns: \n",
    "    if column == \"price\": \n",
    "        continue \n",
    "    elif df_vlc[column].dtype == \"int64\": \n",
    "        if column not in one_hot_columns: \n",
    "            integer_columns.append(column)\n",
    "    elif df_vlc[column].dtype == \"bool\": \n",
    "        boolean_columns.append(column)"
   ]
  },
  {
   "cell_type": "code",
   "execution_count": 71,
   "id": "e64256b7",
   "metadata": {},
   "outputs": [],
   "source": [
    "df_vlc = pd.get_dummies(df_vlc, columns = [\"location_cluster\"], prefix = \"location\", drop_first = False)"
   ]
  },
  {
   "cell_type": "code",
   "execution_count": 72,
   "id": "f5410768",
   "metadata": {},
   "outputs": [],
   "source": [
    "scaler = StandardScaler()\n",
    "for col in integer_columns: \n",
    "    df_vlc[col] = scaler.fit_transform(df_vlc[[col]])\n",
    "\n",
    "for col in boolean_columns: \n",
    "    df_vlc[col] = df_vlc[col].astype(\"int64\")"
   ]
  },
  {
   "cell_type": "code",
   "execution_count": 73,
   "id": "a24cc678",
   "metadata": {},
   "outputs": [],
   "source": [
    "X_train, X_test, y_train, y_test = train_test_split(X, y, test_size = 0.2, random_state = 42)"
   ]
  },
  {
   "cell_type": "code",
   "execution_count": 74,
   "id": "58cc336f",
   "metadata": {},
   "outputs": [],
   "source": [
    "# Custom scorer using MAE\n",
    "mae_scorer = make_scorer(mean_absolute_error, greater_is_better=False)\n",
    "\n",
    "# Example hyperparameter grids\n",
    "param_grids = {\n",
    "    'LinearRegression': {},  # no params to tune\n",
    "    'Ridge': {\n",
    "        'alpha': [0.01, 0.1, 1, 10, 50, 100, 200],\n",
    "        'max_iter': [1000, 5000, 10000]\n",
    "    },\n",
    "    'Lasso': {\n",
    "        'alpha': [0.001, 0.01, 0.1, 0.5, 1, 5, 10],\n",
    "        'max_iter': [5000, 10000, 20000]\n",
    "    },\n",
    "    'RandomForest': {\n",
    "        'n_estimators': [100, 200, 500],\n",
    "        'max_depth': [None, 10, 20, 30],\n",
    "        'min_samples_split': [2, 5, 10],\n",
    "        'min_samples_leaf': [1, 2, 4]\n",
    "    },\n",
    "    'XGBoost': {\n",
    "        'n_estimators': [100, 200, 500],\n",
    "        'max_depth': [3, 5, 7, 10],\n",
    "        'learning_rate': [0.01, 0.05, 0.1, 0.2],\n",
    "        'subsample': [0.6, 0.8, 1.0],\n",
    "        'colsample_bytree': [0.6, 0.8, 1.0]\n",
    "    }\n",
    "}\n",
    "\n",
    "# Dictionary of models\n",
    "models = {\n",
    "    'LinearRegression': LinearRegression(), \n",
    "    'Ridge': Ridge(),\n",
    "    'Lasso': Lasso(),\n",
    "    'RandomForest': RandomForestRegressor(random_state=42),\n",
    "    'XGBoost': XGBRegressor(random_state=42)\n",
    "}"
   ]
  },
  {
   "cell_type": "code",
   "execution_count": 75,
   "id": "faae43d3",
   "metadata": {},
   "outputs": [
    {
     "name": "stdout",
     "output_type": "stream",
     "text": [
      "Tuning LinearRegression...\n"
     ]
    },
    {
     "name": "stdout",
     "output_type": "stream",
     "text": [
      "Best params for LinearRegression: {}\n",
      "Tuning Ridge...\n",
      "Best params for Ridge: {'alpha': 50, 'max_iter': 1000}\n",
      "Tuning Lasso...\n"
     ]
    },
    {
     "name": "stderr",
     "output_type": "stream",
     "text": [
      "/Users/gonzalomartinpenalba/miniconda3/envs/data_env/lib/python3.12/site-packages/sklearn/linear_model/_coordinate_descent.py:695: ConvergenceWarning: Objective did not converge. You might want to increase the number of iterations, check the scale of the features or consider increasing regularisation. Duality gap: 3.871e+14, tolerance: 1.515e+11\n",
      "  model = cd_fast.enet_coordinate_descent(\n",
      "/Users/gonzalomartinpenalba/miniconda3/envs/data_env/lib/python3.12/site-packages/sklearn/linear_model/_coordinate_descent.py:695: ConvergenceWarning: Objective did not converge. You might want to increase the number of iterations, check the scale of the features or consider increasing regularisation. Duality gap: 3.639e+14, tolerance: 1.413e+11\n",
      "  model = cd_fast.enet_coordinate_descent(\n",
      "/Users/gonzalomartinpenalba/miniconda3/envs/data_env/lib/python3.12/site-packages/sklearn/linear_model/_coordinate_descent.py:695: ConvergenceWarning: Objective did not converge. You might want to increase the number of iterations, check the scale of the features or consider increasing regularisation. Duality gap: 3.571e+14, tolerance: 1.379e+11\n",
      "  model = cd_fast.enet_coordinate_descent(\n",
      "/Users/gonzalomartinpenalba/miniconda3/envs/data_env/lib/python3.12/site-packages/sklearn/linear_model/_coordinate_descent.py:695: ConvergenceWarning: Objective did not converge. You might want to increase the number of iterations, check the scale of the features or consider increasing regularisation. Duality gap: 3.658e+14, tolerance: 1.391e+11\n",
      "  model = cd_fast.enet_coordinate_descent(\n",
      "/Users/gonzalomartinpenalba/miniconda3/envs/data_env/lib/python3.12/site-packages/sklearn/linear_model/_coordinate_descent.py:695: ConvergenceWarning: Objective did not converge. You might want to increase the number of iterations, check the scale of the features or consider increasing regularisation. Duality gap: 3.502e+14, tolerance: 1.441e+11\n",
      "  model = cd_fast.enet_coordinate_descent(\n",
      "/Users/gonzalomartinpenalba/miniconda3/envs/data_env/lib/python3.12/site-packages/sklearn/linear_model/_coordinate_descent.py:695: ConvergenceWarning: Objective did not converge. You might want to increase the number of iterations, check the scale of the features or consider increasing regularisation. Duality gap: 7.059e+13, tolerance: 1.515e+11\n",
      "  model = cd_fast.enet_coordinate_descent(\n",
      "/Users/gonzalomartinpenalba/miniconda3/envs/data_env/lib/python3.12/site-packages/sklearn/linear_model/_coordinate_descent.py:695: ConvergenceWarning: Objective did not converge. You might want to increase the number of iterations, check the scale of the features or consider increasing regularisation. Duality gap: 6.677e+13, tolerance: 1.413e+11\n",
      "  model = cd_fast.enet_coordinate_descent(\n",
      "/Users/gonzalomartinpenalba/miniconda3/envs/data_env/lib/python3.12/site-packages/sklearn/linear_model/_coordinate_descent.py:695: ConvergenceWarning: Objective did not converge. You might want to increase the number of iterations, check the scale of the features or consider increasing regularisation. Duality gap: 3.616e+14, tolerance: 1.413e+11\n",
      "  model = cd_fast.enet_coordinate_descent(\n",
      "/Users/gonzalomartinpenalba/miniconda3/envs/data_env/lib/python3.12/site-packages/sklearn/linear_model/_coordinate_descent.py:695: ConvergenceWarning: Objective did not converge. You might want to increase the number of iterations, check the scale of the features or consider increasing regularisation. Duality gap: 6.684e+13, tolerance: 1.441e+11\n",
      "  model = cd_fast.enet_coordinate_descent(\n",
      "/Users/gonzalomartinpenalba/miniconda3/envs/data_env/lib/python3.12/site-packages/sklearn/linear_model/_coordinate_descent.py:695: ConvergenceWarning: Objective did not converge. You might want to increase the number of iterations, check the scale of the features or consider increasing regularisation. Duality gap: 6.659e+13, tolerance: 1.391e+11\n",
      "  model = cd_fast.enet_coordinate_descent(\n",
      "/Users/gonzalomartinpenalba/miniconda3/envs/data_env/lib/python3.12/site-packages/sklearn/linear_model/_coordinate_descent.py:695: ConvergenceWarning: Objective did not converge. You might want to increase the number of iterations, check the scale of the features or consider increasing regularisation. Duality gap: 3.830e+14, tolerance: 1.515e+11\n",
      "  model = cd_fast.enet_coordinate_descent(\n",
      "/Users/gonzalomartinpenalba/miniconda3/envs/data_env/lib/python3.12/site-packages/sklearn/linear_model/_coordinate_descent.py:695: ConvergenceWarning: Objective did not converge. You might want to increase the number of iterations, check the scale of the features or consider increasing regularisation. Duality gap: 3.447e+14, tolerance: 1.379e+11\n",
      "  model = cd_fast.enet_coordinate_descent(\n",
      "/Users/gonzalomartinpenalba/miniconda3/envs/data_env/lib/python3.12/site-packages/sklearn/linear_model/_coordinate_descent.py:695: ConvergenceWarning: Objective did not converge. You might want to increase the number of iterations, check the scale of the features or consider increasing regularisation. Duality gap: 1.851e+14, tolerance: 1.441e+11\n",
      "  model = cd_fast.enet_coordinate_descent(\n",
      "/Users/gonzalomartinpenalba/miniconda3/envs/data_env/lib/python3.12/site-packages/sklearn/linear_model/_coordinate_descent.py:695: ConvergenceWarning: Objective did not converge. You might want to increase the number of iterations, check the scale of the features or consider increasing regularisation. Duality gap: 3.542e+14, tolerance: 1.391e+11\n",
      "  model = cd_fast.enet_coordinate_descent(\n",
      "/Users/gonzalomartinpenalba/miniconda3/envs/data_env/lib/python3.12/site-packages/sklearn/linear_model/_coordinate_descent.py:695: ConvergenceWarning: Objective did not converge. You might want to increase the number of iterations, check the scale of the features or consider increasing regularisation. Duality gap: 7.059e+13, tolerance: 1.515e+11\n",
      "  model = cd_fast.enet_coordinate_descent(\n",
      "/Users/gonzalomartinpenalba/miniconda3/envs/data_env/lib/python3.12/site-packages/sklearn/linear_model/_coordinate_descent.py:695: ConvergenceWarning: Objective did not converge. You might want to increase the number of iterations, check the scale of the features or consider increasing regularisation. Duality gap: 6.677e+13, tolerance: 1.413e+11\n",
      "  model = cd_fast.enet_coordinate_descent(\n",
      "/Users/gonzalomartinpenalba/miniconda3/envs/data_env/lib/python3.12/site-packages/sklearn/linear_model/_coordinate_descent.py:695: ConvergenceWarning: Objective did not converge. You might want to increase the number of iterations, check the scale of the features or consider increasing regularisation. Duality gap: 6.677e+13, tolerance: 1.413e+11\n",
      "  model = cd_fast.enet_coordinate_descent(\n",
      "/Users/gonzalomartinpenalba/miniconda3/envs/data_env/lib/python3.12/site-packages/sklearn/linear_model/_coordinate_descent.py:695: ConvergenceWarning: Objective did not converge. You might want to increase the number of iterations, check the scale of the features or consider increasing regularisation. Duality gap: 7.059e+13, tolerance: 1.515e+11\n",
      "  model = cd_fast.enet_coordinate_descent(\n",
      "/Users/gonzalomartinpenalba/miniconda3/envs/data_env/lib/python3.12/site-packages/sklearn/linear_model/_coordinate_descent.py:695: ConvergenceWarning: Objective did not converge. You might want to increase the number of iterations, check the scale of the features or consider increasing regularisation. Duality gap: 6.684e+13, tolerance: 1.441e+11\n",
      "  model = cd_fast.enet_coordinate_descent(\n",
      "/Users/gonzalomartinpenalba/miniconda3/envs/data_env/lib/python3.12/site-packages/sklearn/linear_model/_coordinate_descent.py:695: ConvergenceWarning: Objective did not converge. You might want to increase the number of iterations, check the scale of the features or consider increasing regularisation. Duality gap: 6.684e+13, tolerance: 1.441e+11\n",
      "  model = cd_fast.enet_coordinate_descent(\n",
      "/Users/gonzalomartinpenalba/miniconda3/envs/data_env/lib/python3.12/site-packages/sklearn/linear_model/_coordinate_descent.py:695: ConvergenceWarning: Objective did not converge. You might want to increase the number of iterations, check the scale of the features or consider increasing regularisation. Duality gap: 6.659e+13, tolerance: 1.391e+11\n",
      "  model = cd_fast.enet_coordinate_descent(\n",
      "/Users/gonzalomartinpenalba/miniconda3/envs/data_env/lib/python3.12/site-packages/sklearn/linear_model/_coordinate_descent.py:695: ConvergenceWarning: Objective did not converge. You might want to increase the number of iterations, check the scale of the features or consider increasing regularisation. Duality gap: 6.659e+13, tolerance: 1.391e+11\n",
      "  model = cd_fast.enet_coordinate_descent(\n",
      "/Users/gonzalomartinpenalba/miniconda3/envs/data_env/lib/python3.12/site-packages/sklearn/linear_model/_coordinate_descent.py:695: ConvergenceWarning: Objective did not converge. You might want to increase the number of iterations, check the scale of the features or consider increasing regularisation. Duality gap: 3.373e+14, tolerance: 1.413e+11\n",
      "  model = cd_fast.enet_coordinate_descent(\n",
      "/Users/gonzalomartinpenalba/miniconda3/envs/data_env/lib/python3.12/site-packages/sklearn/linear_model/_coordinate_descent.py:695: ConvergenceWarning: Objective did not converge. You might want to increase the number of iterations, check the scale of the features or consider increasing regularisation. Duality gap: 2.088e+14, tolerance: 1.379e+11\n",
      "  model = cd_fast.enet_coordinate_descent(\n",
      "/Users/gonzalomartinpenalba/miniconda3/envs/data_env/lib/python3.12/site-packages/sklearn/linear_model/_coordinate_descent.py:695: ConvergenceWarning: Objective did not converge. You might want to increase the number of iterations, check the scale of the features or consider increasing regularisation. Duality gap: 3.391e+14, tolerance: 1.515e+11\n",
      "  model = cd_fast.enet_coordinate_descent(\n",
      "/Users/gonzalomartinpenalba/miniconda3/envs/data_env/lib/python3.12/site-packages/sklearn/linear_model/_coordinate_descent.py:695: ConvergenceWarning: Objective did not converge. You might want to increase the number of iterations, check the scale of the features or consider increasing regularisation. Duality gap: 2.624e+14, tolerance: 1.391e+11\n",
      "  model = cd_fast.enet_coordinate_descent(\n",
      "/Users/gonzalomartinpenalba/miniconda3/envs/data_env/lib/python3.12/site-packages/sklearn/linear_model/_coordinate_descent.py:695: ConvergenceWarning: Objective did not converge. You might want to increase the number of iterations, check the scale of the features or consider increasing regularisation. Duality gap: 6.677e+13, tolerance: 1.413e+11\n",
      "  model = cd_fast.enet_coordinate_descent(\n",
      "/Users/gonzalomartinpenalba/miniconda3/envs/data_env/lib/python3.12/site-packages/sklearn/linear_model/_coordinate_descent.py:695: ConvergenceWarning: Objective did not converge. You might want to increase the number of iterations, check the scale of the features or consider increasing regularisation. Duality gap: 7.059e+13, tolerance: 1.515e+11\n",
      "  model = cd_fast.enet_coordinate_descent(\n",
      "/Users/gonzalomartinpenalba/miniconda3/envs/data_env/lib/python3.12/site-packages/sklearn/linear_model/_coordinate_descent.py:695: ConvergenceWarning: Objective did not converge. You might want to increase the number of iterations, check the scale of the features or consider increasing regularisation. Duality gap: 6.684e+13, tolerance: 1.441e+11\n",
      "  model = cd_fast.enet_coordinate_descent(\n",
      "/Users/gonzalomartinpenalba/miniconda3/envs/data_env/lib/python3.12/site-packages/sklearn/linear_model/_coordinate_descent.py:695: ConvergenceWarning: Objective did not converge. You might want to increase the number of iterations, check the scale of the features or consider increasing regularisation. Duality gap: 2.176e+14, tolerance: 1.413e+11\n",
      "  model = cd_fast.enet_coordinate_descent(\n",
      "/Users/gonzalomartinpenalba/miniconda3/envs/data_env/lib/python3.12/site-packages/sklearn/linear_model/_coordinate_descent.py:695: ConvergenceWarning: Objective did not converge. You might want to increase the number of iterations, check the scale of the features or consider increasing regularisation. Duality gap: 8.708e+13, tolerance: 1.515e+11\n",
      "  model = cd_fast.enet_coordinate_descent(\n",
      "/Users/gonzalomartinpenalba/miniconda3/envs/data_env/lib/python3.12/site-packages/sklearn/linear_model/_coordinate_descent.py:695: ConvergenceWarning: Objective did not converge. You might want to increase the number of iterations, check the scale of the features or consider increasing regularisation. Duality gap: 1.814e+12, tolerance: 1.379e+11\n",
      "  model = cd_fast.enet_coordinate_descent(\n",
      "/Users/gonzalomartinpenalba/miniconda3/envs/data_env/lib/python3.12/site-packages/sklearn/linear_model/_coordinate_descent.py:695: ConvergenceWarning: Objective did not converge. You might want to increase the number of iterations, check the scale of the features or consider increasing regularisation. Duality gap: 9.743e+13, tolerance: 1.391e+11\n",
      "  model = cd_fast.enet_coordinate_descent(\n",
      "/Users/gonzalomartinpenalba/miniconda3/envs/data_env/lib/python3.12/site-packages/sklearn/linear_model/_coordinate_descent.py:695: ConvergenceWarning: Objective did not converge. You might want to increase the number of iterations, check the scale of the features or consider increasing regularisation. Duality gap: 5.486e+13, tolerance: 1.413e+11\n",
      "  model = cd_fast.enet_coordinate_descent(\n",
      "/Users/gonzalomartinpenalba/miniconda3/envs/data_env/lib/python3.12/site-packages/sklearn/linear_model/_coordinate_descent.py:695: ConvergenceWarning: Objective did not converge. You might want to increase the number of iterations, check the scale of the features or consider increasing regularisation. Duality gap: 4.447e+11, tolerance: 1.379e+11\n",
      "  model = cd_fast.enet_coordinate_descent(\n",
      "/Users/gonzalomartinpenalba/miniconda3/envs/data_env/lib/python3.12/site-packages/sklearn/linear_model/_coordinate_descent.py:695: ConvergenceWarning: Objective did not converge. You might want to increase the number of iterations, check the scale of the features or consider increasing regularisation. Duality gap: 3.764e+11, tolerance: 1.515e+11\n",
      "  model = cd_fast.enet_coordinate_descent(\n",
      "/Users/gonzalomartinpenalba/miniconda3/envs/data_env/lib/python3.12/site-packages/sklearn/linear_model/_coordinate_descent.py:695: ConvergenceWarning: Objective did not converge. You might want to increase the number of iterations, check the scale of the features or consider increasing regularisation. Duality gap: 4.370e+13, tolerance: 1.391e+11\n",
      "  model = cd_fast.enet_coordinate_descent(\n"
     ]
    },
    {
     "name": "stdout",
     "output_type": "stream",
     "text": [
      "Best params for Lasso: {'alpha': 10, 'max_iter': 5000}\n",
      "Tuning RandomForest...\n"
     ]
    },
    {
     "name": "stderr",
     "output_type": "stream",
     "text": [
      "/Users/gonzalomartinpenalba/miniconda3/envs/data_env/lib/python3.12/site-packages/joblib/externals/loky/process_executor.py:782: UserWarning: A worker stopped while some jobs were given to the executor. This can be caused by a too short worker timeout or by a memory leak.\n",
      "  warnings.warn(\n"
     ]
    },
    {
     "name": "stdout",
     "output_type": "stream",
     "text": [
      "Best params for RandomForest: {'max_depth': None, 'min_samples_leaf': 1, 'min_samples_split': 2, 'n_estimators': 500}\n",
      "Tuning XGBoost...\n",
      "Best params for XGBoost: {'colsample_bytree': 0.8, 'learning_rate': 0.05, 'max_depth': 10, 'n_estimators': 500, 'subsample': 0.8}\n"
     ]
    }
   ],
   "source": [
    "best_models = {}\n",
    "\n",
    "for name, model in models.items():\n",
    "    print(f\"Tuning {name}...\")\n",
    "    grid = GridSearchCV(model, param_grids[name], scoring=mae_scorer, cv=5, n_jobs=-1)\n",
    "    grid.fit(X_train, y_train)\n",
    "    best_models[name] = grid.best_estimator_\n",
    "    print(f\"Best params for {name}: {grid.best_params_}\")"
   ]
  },
  {
   "cell_type": "code",
   "execution_count": 76,
   "id": "f66a0082",
   "metadata": {},
   "outputs": [
    {
     "name": "stdout",
     "output_type": "stream",
     "text": [
      "LinearRegression: MAE = 142196.59, RMSE = 64051783481.80\n",
      "Ridge: MAE = 142276.98, RMSE = 64034671566.63\n",
      "Lasso: MAE = 142247.07, RMSE = 64078042366.38\n",
      "RandomForest: MAE = 85318.94, RMSE = 28548316300.94\n",
      "XGBoost: MAE = 80202.80, RMSE = 26288441344.00\n"
     ]
    }
   ],
   "source": [
    "for name, model in best_models.items():\n",
    "    y_pred = model.predict(X_test)\n",
    "    mae = mean_absolute_error(y_test, y_pred)\n",
    "    rmse = mean_squared_error(y_test, y_pred)\n",
    "    print(f\"{name}: MAE = {mae:.2f}, RMSE = {rmse:.2f}\")"
   ]
  },
  {
   "cell_type": "code",
   "execution_count": 77,
   "id": "45342f27",
   "metadata": {},
   "outputs": [],
   "source": [
    "for column in df_vlc.columns: \n",
    "    if sum(df_vlc[column].isna()) > 0: \n",
    "        print(f\"Column: {column} contains {sum(df_vlc[column].isna())} NaN values\")"
   ]
  },
  {
   "cell_type": "code",
   "execution_count": 78,
   "id": "575c5274",
   "metadata": {},
   "outputs": [
    {
     "data": {
      "text/plain": [
       "315910.70606991707"
      ]
     },
     "execution_count": 78,
     "metadata": {},
     "output_type": "execute_result"
    }
   ],
   "source": [
    "df_vlc[\"price\"].mean()"
   ]
  },
  {
   "cell_type": "code",
   "execution_count": 79,
   "id": "ab925b59",
   "metadata": {},
   "outputs": [
    {
     "data": {
      "text/plain": [
       "25.38780688940931"
      ]
     },
     "execution_count": 79,
     "metadata": {},
     "output_type": "execute_result"
    }
   ],
   "source": [
    "80202.80 / 315910.70606991707 * 100 "
   ]
  },
  {
   "cell_type": "code",
   "execution_count": null,
   "id": "58400284",
   "metadata": {},
   "outputs": [],
   "source": []
  }
 ],
 "metadata": {
  "kernelspec": {
   "display_name": "data_env",
   "language": "python",
   "name": "python3"
  },
  "language_info": {
   "codemirror_mode": {
    "name": "ipython",
    "version": 3
   },
   "file_extension": ".py",
   "mimetype": "text/x-python",
   "name": "python",
   "nbconvert_exporter": "python",
   "pygments_lexer": "ipython3",
   "version": "3.12.7"
  }
 },
 "nbformat": 4,
 "nbformat_minor": 5
}
