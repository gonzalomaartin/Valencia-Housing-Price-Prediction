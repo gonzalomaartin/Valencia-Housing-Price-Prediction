{
 "cells": [
  {
   "cell_type": "markdown",
   "id": "94cd4021",
   "metadata": {},
   "source": [
    "# TODO: \n",
    "\n",
    "\n",
    "- Drop the id and discount columns\n",
    "- Accept northest, southwest as an orientation (small change)\n",
    "- On the cleaning pipeline, you should remove the NaN values, before passing through any file.\n",
    "- Add more feature engineering: distance to center, distance to the beach...  "
   ]
  },
  {
   "cell_type": "code",
   "execution_count": 1140,
   "id": "99004c53-7379-4045-acc1-3bb6559c7e25",
   "metadata": {},
   "outputs": [],
   "source": [
    "import pandas as pd, ast\n",
    "import matplotlib.pyplot as plt \n",
    "import numpy as np \n",
    "import re \n",
    "from functools import cache \n",
    "from geopy.geocoders import Nominatim\n",
    "from geopy.extra.rate_limiter import RateLimiter\n",
    "import time \n",
    "from sklearn.cluster import KMeans "
   ]
  },
  {
   "cell_type": "code",
   "execution_count": 1141,
   "id": "9ef5328d-05f6-4551-87e4-a9177b7f6144",
   "metadata": {},
   "outputs": [],
   "source": [
    "df_vlc = pd.read_csv(\"../working_data/properties_vlc.csv\") "
   ]
  },
  {
   "cell_type": "markdown",
   "id": "f4d5f683",
   "metadata": {},
   "source": [
    "### Dropping NaN values & cols"
   ]
  },
  {
   "cell_type": "code",
   "execution_count": 1142,
   "id": "508f7766",
   "metadata": {},
   "outputs": [
    {
     "data": {
      "text/plain": [
       "True"
      ]
     },
     "execution_count": 1142,
     "metadata": {},
     "output_type": "execute_result"
    }
   ],
   "source": [
    "df_vlc.dropna(subset = [\"title\"]).equals(df_vlc.dropna(subset = [\"price\"]))"
   ]
  },
  {
   "cell_type": "code",
   "execution_count": 1143,
   "id": "68c8b1e5",
   "metadata": {},
   "outputs": [],
   "source": [
    "df_vlc.dropna(subset = [\"title\"], inplace = True)\n",
    "df_vlc.drop(columns = [\"discount\"], inplace = True)"
   ]
  },
  {
   "cell_type": "markdown",
   "id": "536d05df",
   "metadata": {},
   "source": [
    "### Convert string features into lists "
   ]
  },
  {
   "cell_type": "code",
   "execution_count": 1144,
   "id": "f0ec3115",
   "metadata": {},
   "outputs": [
    {
     "data": {
      "text/plain": [
       "Index(['title', 'price', 'comment', 'features', 'tags', 'details', 'location',\n",
       "       'energia', 'id'],\n",
       "      dtype='object')"
      ]
     },
     "execution_count": 1144,
     "metadata": {},
     "output_type": "execute_result"
    }
   ],
   "source": [
    "df_vlc.columns"
   ]
  },
  {
   "cell_type": "code",
   "execution_count": 1145,
   "id": "38ff7aff",
   "metadata": {},
   "outputs": [
    {
     "data": {
      "text/plain": [
       "str"
      ]
     },
     "execution_count": 1145,
     "metadata": {},
     "output_type": "execute_result"
    }
   ],
   "source": [
    "type(df_vlc.loc[0, \"features\"][0])"
   ]
  },
  {
   "cell_type": "code",
   "execution_count": 1146,
   "id": "f1374cfc",
   "metadata": {},
   "outputs": [],
   "source": [
    "list_features = [\"features\", \"tags\", \"details\", \"location\", \"energia\"]\n",
    "\n",
    "for feature in list_features: \n",
    "    df_vlc[feature] = df_vlc[feature].apply(ast.literal_eval)"
   ]
  },
  {
   "cell_type": "markdown",
   "id": "610e96bf",
   "metadata": {},
   "source": [
    "### Data Cleaning "
   ]
  },
  {
   "cell_type": "code",
   "execution_count": 1147,
   "id": "5bac0863",
   "metadata": {},
   "outputs": [],
   "source": [
    "def find_number(row, substr1, substr2):\n",
    "    #Iterate over each row of the DataFrame and for each row iterate over each feature and check if it contains the given string and if that's the case return the number\n",
    "    if isinstance(row, list): \n",
    "        for feature in row: \n",
    "            match = re.search(rf\"{substr1}[a-zA-Z\\s]*(\\d+[.,]*\\d*)[a-zA-Z\\s]*{substr2}\", feature)\n",
    "            if match: \n",
    "                return int(match.group(1).replace(\".\", \"\"))\n",
    "    elif isinstance(row, str):  \n",
    "        match = re.search(rf\"{substr1}[a-zA-Z\\s]*(\\d+[.,]*\\d*)[a-zA-Z\\s]*{substr2}\", row)\n",
    "        if match: \n",
    "            return int(match.group(1).replace(\".\", \",\"))\n",
    "        \n",
    "    return 0 "
   ]
  },
  {
   "cell_type": "code",
   "execution_count": 1148,
   "id": "f622d2a1",
   "metadata": {},
   "outputs": [],
   "source": [
    "def find_feature(row, substr): \n",
    "    if isinstance(row, list): \n",
    "        for feature in row: \n",
    "            match1 = re.search(rf\"\\b(no|sin)\\b.*\\b{substr}\\b\", feature)\n",
    "            match2 = re.search(rf\"\\b{substr}\\b\", feature)\n",
    "            if match2: \n",
    "                return not bool(match1) #if you captured (no|sin) return False\n",
    "    elif isinstance(row, str): \n",
    "        match = re.search(rf\"\\b{substr}\\b\", row)\n",
    "        if match: \n",
    "            return True \n",
    "        \n",
    "    return False "
   ]
  },
  {
   "cell_type": "markdown",
   "id": "29ee4de8",
   "metadata": {},
   "source": [
    "#### Reason to use the features column to take the rooms"
   ]
  },
  {
   "cell_type": "code",
   "execution_count": 1149,
   "id": "f74cf942",
   "metadata": {},
   "outputs": [
    {
     "data": {
      "text/plain": [
       "61220"
      ]
     },
     "execution_count": 1149,
     "metadata": {},
     "output_type": "execute_result"
    }
   ],
   "source": [
    "sum(df_vlc[\"details\"].apply(lambda x: find_number(x, \"\", \"hab\")))"
   ]
  },
  {
   "cell_type": "code",
   "execution_count": 1150,
   "id": "fd792f36",
   "metadata": {},
   "outputs": [
    {
     "data": {
      "text/plain": [
       "61485"
      ]
     },
     "execution_count": 1150,
     "metadata": {},
     "output_type": "execute_result"
    }
   ],
   "source": [
    "sum(df_vlc[\"features\"].apply(lambda x: find_number(x, \"\", \"hab\")))"
   ]
  },
  {
   "cell_type": "code",
   "execution_count": 1151,
   "id": "ca4c11cc",
   "metadata": {},
   "outputs": [
    {
     "data": {
      "text/plain": [
       "(0, 0)"
      ]
     },
     "execution_count": 1151,
     "metadata": {},
     "output_type": "execute_result"
    }
   ],
   "source": [
    "sum(df_vlc[\"features\"].apply(lambda x: find_number(x, \"hab\", \"\"))), sum(df_vlc[\"details\"].apply(lambda x: find_number(x, \"hab\", \"\")))"
   ]
  },
  {
   "cell_type": "code",
   "execution_count": 1152,
   "id": "844de06d",
   "metadata": {},
   "outputs": [
    {
     "data": {
      "text/plain": [
       "0"
      ]
     },
     "execution_count": 1152,
     "metadata": {},
     "output_type": "execute_result"
    }
   ],
   "source": [
    "df_hab = df_vlc[\"features\"].apply(lambda x: find_number(x, \"\", \"hab\"))\n",
    "sum(df_vlc[df_hab == 0][\"details\"].apply(lambda x: find_number(x, \"\", \"hab\")))"
   ]
  },
  {
   "cell_type": "markdown",
   "id": "4bace419",
   "metadata": {},
   "source": [
    "#### Reason to take the details column to take the bathrooms"
   ]
  },
  {
   "cell_type": "code",
   "execution_count": 1153,
   "id": "e55ebbb0",
   "metadata": {},
   "outputs": [
    {
     "data": {
      "text/plain": [
       "35680"
      ]
     },
     "execution_count": 1153,
     "metadata": {},
     "output_type": "execute_result"
    }
   ],
   "source": [
    "sum(df_vlc[\"details\"].apply(lambda x: find_number(x, \"\", \"bañ\")))"
   ]
  },
  {
   "cell_type": "code",
   "execution_count": 1154,
   "id": "25d73d1c",
   "metadata": {},
   "outputs": [
    {
     "data": {
      "text/plain": [
       "(0, 0)"
      ]
     },
     "execution_count": 1154,
     "metadata": {},
     "output_type": "execute_result"
    }
   ],
   "source": [
    "sum(df_vlc[\"features\"].apply(lambda x: find_number(x, \"\", \"bañ\"))), sum(df_vlc[\"details\"].apply(lambda x: find_number(x, \"bañ\", \"\")))"
   ]
  },
  {
   "cell_type": "markdown",
   "id": "cc99d52b",
   "metadata": {},
   "source": [
    "#### Reason to use the features column to take the floor "
   ]
  },
  {
   "cell_type": "code",
   "execution_count": 1155,
   "id": "3939de41",
   "metadata": {},
   "outputs": [
    {
     "data": {
      "text/plain": [
       "6269"
      ]
     },
     "execution_count": 1155,
     "metadata": {},
     "output_type": "execute_result"
    }
   ],
   "source": [
    "(df_vlc[\"details\"].apply(lambda x: find_number(x, \"planta\", \"\")) != 0).sum()"
   ]
  },
  {
   "cell_type": "code",
   "execution_count": 1156,
   "id": "7fed692f",
   "metadata": {},
   "outputs": [
    {
     "data": {
      "text/plain": [
       "6341"
      ]
     },
     "execution_count": 1156,
     "metadata": {},
     "output_type": "execute_result"
    }
   ],
   "source": [
    "(df_vlc[\"features\"].apply(lambda x: find_number(x, \"planta\", \"\")) != 0).sum()"
   ]
  },
  {
   "cell_type": "code",
   "execution_count": 1157,
   "id": "65049c2d",
   "metadata": {},
   "outputs": [
    {
     "data": {
      "text/plain": [
       "(0, 6683)"
      ]
     },
     "execution_count": 1157,
     "metadata": {},
     "output_type": "execute_result"
    }
   ],
   "source": [
    "(df_vlc[\"features\"].apply(lambda x: find_number(x, \"\", \"planta\")) != 0).sum(), (df_vlc[\"details\"].apply(lambda x: find_number(x, \"\", \"planta\")) != 0).sum()"
   ]
  },
  {
   "cell_type": "code",
   "execution_count": 1158,
   "id": "e267278b",
   "metadata": {},
   "outputs": [
    {
     "data": {
      "text/plain": [
       "0"
      ]
     },
     "execution_count": 1158,
     "metadata": {},
     "output_type": "execute_result"
    }
   ],
   "source": [
    "df_floors = df_vlc[\"features\"].apply(lambda x: find_number(x, \"planta\", \"\"))\n",
    "sum(df_vlc[df_floors == 0][\"details\"].apply(lambda x: find_number(x, \"planta\", \"\")))"
   ]
  },
  {
   "cell_type": "markdown",
   "id": "ff8f9a65",
   "metadata": {},
   "source": [
    "#### Reason to use the features column to take the lift"
   ]
  },
  {
   "cell_type": "code",
   "execution_count": 1159,
   "id": "1b5e7a2e",
   "metadata": {},
   "outputs": [],
   "source": [
    "df_ascensor = df_vlc[\"details\"].apply(lambda x: find_feature(x, \"ascensor\"))"
   ]
  },
  {
   "cell_type": "code",
   "execution_count": 1160,
   "id": "0ce26bd0",
   "metadata": {},
   "outputs": [
    {
     "data": {
      "text/plain": [
       "5163"
      ]
     },
     "execution_count": 1160,
     "metadata": {},
     "output_type": "execute_result"
    }
   ],
   "source": [
    "sum(df_ascensor)"
   ]
  },
  {
   "cell_type": "code",
   "execution_count": 1161,
   "id": "e67f61be",
   "metadata": {},
   "outputs": [
    {
     "data": {
      "text/plain": [
       "89"
      ]
     },
     "execution_count": 1161,
     "metadata": {},
     "output_type": "execute_result"
    }
   ],
   "source": [
    "sum(df_vlc[df_ascensor == False][\"features\"].apply(lambda x: find_feature(x, \"ascensor\")))"
   ]
  },
  {
   "cell_type": "code",
   "execution_count": 1162,
   "id": "cd2ddf21",
   "metadata": {},
   "outputs": [
    {
     "data": {
      "text/plain": [
       "5252"
      ]
     },
     "execution_count": 1162,
     "metadata": {},
     "output_type": "execute_result"
    }
   ],
   "source": [
    "sum(df_vlc[\"features\"].apply(lambda x: find_feature(x, \"ascensor\")))"
   ]
  },
  {
   "cell_type": "markdown",
   "id": "80cffc01",
   "metadata": {},
   "source": [
    "#### Reason to use the features column to take the garage"
   ]
  },
  {
   "cell_type": "code",
   "execution_count": 1163,
   "id": "40af07d6",
   "metadata": {},
   "outputs": [
    {
     "data": {
      "text/plain": [
       "7077"
      ]
     },
     "execution_count": 1163,
     "metadata": {},
     "output_type": "execute_result"
    }
   ],
   "source": [
    "sum(df_vlc[\"features\"].apply(lambda x: find_feature(x, \"garaje\")))"
   ]
  },
  {
   "cell_type": "code",
   "execution_count": 1164,
   "id": "0f285029",
   "metadata": {},
   "outputs": [
    {
     "data": {
      "text/plain": [
       "7333"
      ]
     },
     "execution_count": 1164,
     "metadata": {},
     "output_type": "execute_result"
    }
   ],
   "source": [
    "sum(df_vlc[\"details\"].apply(lambda x: find_feature(x, \"garaje\")))"
   ]
  },
  {
   "cell_type": "code",
   "execution_count": 1165,
   "id": "7c4a03e2",
   "metadata": {},
   "outputs": [
    {
     "data": {
      "text/plain": [
       "311"
      ]
     },
     "execution_count": 1165,
     "metadata": {},
     "output_type": "execute_result"
    }
   ],
   "source": [
    "df_garaje = df_vlc[\"features\"].apply(lambda x: find_feature(x, \"garaje\"))\n",
    "sum(df_vlc[df_garaje == False][\"details\"].apply(lambda x: find_feature(x, \"garaje\")))"
   ]
  },
  {
   "cell_type": "markdown",
   "id": "7661e0d7",
   "metadata": {},
   "source": [
    "### Creating new columns "
   ]
  },
  {
   "cell_type": "code",
   "execution_count": 1166,
   "id": "66771748-dc7e-4753-abb2-a0e930b6e44d",
   "metadata": {},
   "outputs": [],
   "source": [
    "new_cols = { # (col to look at, substring before, substring after, returning a number )\n",
    "    \"rooms\": (\"features\", \"\", \"hab\", True), \n",
    "    \"baths\": (\"details\", \"\", \"baño\", True),\n",
    "    \"m2_cons\": (\"details\", \"\", \"m² construidos\", True),\n",
    "    \"m2_property\": (\"details\", \"parcela\", \"m²\", True), \n",
    "    \"floor\": (\"features\", \"planta\", \"\", True), \n",
    "    \"garage\": (\"features\", \"garaje\", \"\", False), \n",
    "    \"balcony\": (\"details\", \"balc[oó]n\", \"\", False), \n",
    "    \"terrace\": (\"details\", \"terraza\", \"\", False), \n",
    "    \"lift\": (\"features\", \"ascensor\", \"\", False), \n",
    "    \"AC\": (\"details\", \"aire acondicionado\", \"\", False), \n",
    "    \"prop_age\": (\"details\", \"construido en\", \"\", True), \n",
    "    \"pool\": (\"details\", \"piscina\", \"\", False), \n",
    "    \"east\": (\"details\", \"este\", \"\", False), \n",
    "    \"north\": (\"details\", \"norte\", \"\", False), \n",
    "    \"south\": (\"details\", \"sur\", \"\", False), \n",
    "    \"west\": (\"details\", \"oeste\", \"\", False), \n",
    "    \"adosado\": (\"title\", \"chalet adosado\", \"\", False), \n",
    "    \"pareado\": (\"title\", \"chalet pareado\", \"\", False), \n",
    "    \"chalet\": (\"title\", \"chalet independiente\", \"\", False), \n",
    "    \"masia\": (\"title\", \"mas[ií]a\", \"\", False), \n",
    "    \"atico\": (\"title\", \"[aá]tico\", \"\", False), \n",
    "    \"duplex\": (\"title\", \"d[uú]plex\", \"\", False), \n",
    "    \"estudio\": (\"title\", \"estudio\", \"\", False), \n",
    "    \"piso\": (\"title\", \"piso\", \"\", False), \n",
    "    \"casa_rustica\": (\"title\", \"casa de pueblo\", \"\", False), \n",
    "    \"villa\": (\"tags\", \"villa\", \"\", False), \n",
    "    \"heating\": (\"details\", \"calefacci[oó]n\", \"\", False), \n",
    "    \"trastero\": (\"details\", \"trastero\", \"\", False), \n",
    "    \"fireplace\": (\"details\", \"chimenea\", \"\", False), \n",
    "    \"garden\": (\"details\", \"jard[ií]n\", \"\", False), \n",
    "    \"wardrobes\": (\"details\", \"armarios empotrados\", \"\", False), \n",
    "    \"mobility\": (\"details\", \"movilidad reducida\", \"\", False), \n",
    "    \"sea_views\": (\"tags\", \"vistas al mar\", \"\", False), \n",
    "    \"nuda\": (\"tags\", \"nuda propiedad\", \"\", False), \n",
    "    \"ocupada\": (\"tags\", \"ocupada ilegalmente\", \"\", False), \n",
    "    \"rented\": (\"tags\", \"alquilada\", \"\", False), \n",
    "    \"new\": (\"features\", \"obra nueva\", \"\", False), \n",
    "    \"good\": (\"details\", \"buen estado\", \"\", False), \n",
    "    \"renovate\": (\"details\", \"para reformar\", \"\", False), \n",
    "\n",
    "}\n",
    "\n",
    "# fill_zero as a list of (target_col, source_col, substr1, substr2, returns_number) entries\n",
    "fill_zero = [\n",
    "    (\"m2_cons\", \"features\", \"\", \"m²\", True),\n",
    "    (\"floor\", \"details\", \"planta\", \"\", True),\n",
    "    (\"floor\", \"details\", \"\", \"planta\", True),\n",
    "    (\"garage\", \"details\", \"garaje\", \"\", False),\n",
    "    (\"casa_rustica\", \"title\", \"casa rural\", \"\", False),\n",
    "    (\"casa_rustica\", \"title\", \"r[uú]stica\", \"\", False),\n",
    "    (\"casa_rustica\", \"title\", \"cortijo\", \"\", False),\n",
    "    (\"casa_rustica\", \"title\", \"caser[oó]n\", \"\", False),\n",
    "]\n",
    "\n",
    "negations = [\"sin\", \"no\"]\n",
    "property_type = [\"adosado\", \"pareado\", \"chalet\", \"masia\", \"atico\", \"duplex\", \"estudio\", \"piso\", \"casa_rustica\", \"villa\"]\n",
    "property_states = [\"new\", \"good\", \"renovate\"]"
   ]
  },
  {
   "cell_type": "code",
   "execution_count": 1167,
   "id": "44e0cef1-c0bd-49d9-9892-bdce230f3268",
   "metadata": {},
   "outputs": [],
   "source": [
    "#keys = [\"price\", \"rooms\", \"baths\", \"floor\", \"garage\", \"address\", \"m2_constructed\", \"m2_property\", \"balcony\", \"propertyType\", \"description\", \"lift\", \"air conditioning\", \"year_constructed\", \n",
    "#\"housing_state\", \"pool\", \"orientation\", \"heating\", \"trastero\", \"fireplace\", \"garden\", \"sea views\", \"armarios_empotrados\", \"movilidad_reducida\"]\n"
   ]
  },
  {
   "cell_type": "code",
   "execution_count": 1168,
   "id": "519769af",
   "metadata": {},
   "outputs": [],
   "source": [
    "df_vlc[\"price\"] = df_vlc[\"price\"].str.replace(\"€\", \"\").str.replace(\".\", \"\").astype(\"Int64\")"
   ]
  },
  {
   "cell_type": "code",
   "execution_count": 1169,
   "id": "117a78dd",
   "metadata": {},
   "outputs": [],
   "source": [
    "for name, (col, substr1, substr2, number) in new_cols.items():  \n",
    "    if number: \n",
    "        df_vlc[name] = df_vlc[col].apply(lambda x: find_number(x, substr1, substr2))\n",
    "    else: \n",
    "        df_vlc[name] = df_vlc[col].apply(lambda x: find_feature(x, substr1))"
   ]
  },
  {
   "cell_type": "code",
   "execution_count": 1170,
   "id": "63356d3e",
   "metadata": {},
   "outputs": [],
   "source": [
    "# iterate over the list of fill rules so multiple patterns per target are tried\n",
    "for name, col, substr1, substr2, number in fill_zero:\n",
    "    if number:\n",
    "        mask = df_vlc[name] == 0\n",
    "        df_vlc.loc[mask, name] = df_vlc.loc[mask, col].apply(lambda x: find_number(x, substr1, substr2))\n",
    "    else:\n",
    "        mask = df_vlc[name] == False\n",
    "        df_vlc.loc[mask, name] = df_vlc.loc[mask, col].apply(lambda x: find_feature(x, substr1))"
   ]
  },
  {
   "cell_type": "markdown",
   "id": "70918f0e",
   "metadata": {},
   "source": [
    "#### Creating flag features for empty entries"
   ]
  },
  {
   "cell_type": "code",
   "execution_count": 1171,
   "id": "1ab9bbe3",
   "metadata": {},
   "outputs": [],
   "source": [
    "df_vlc[\"missing_prop_type\"] = df_vlc[property_type].sum(axis = 1) == 0\n",
    "df_vlc[\"missing_prop_age\"] = df_vlc[\"prop_age\"] == 0"
   ]
  },
  {
   "cell_type": "markdown",
   "id": "11a13bed",
   "metadata": {},
   "source": [
    "#### Filling missing values "
   ]
  },
  {
   "cell_type": "code",
   "execution_count": 1172,
   "id": "30359b0e",
   "metadata": {},
   "outputs": [],
   "source": [
    "df_vlc.loc[df_vlc[\"m2_property\"] == 0, \"m2_property\"] = df_vlc[\"m2_cons\"] \n",
    "df_vlc.loc[df_vlc[\"floor\"] == 0, \"floor\"] = 1 \n",
    "df_vlc.loc[df_vlc[\"villa\"] == True, \"chalet\"] = False \n",
    "df_vlc.loc[df_vlc[property_type].sum(axis = 1) == 0, \"adosado\"] = True #Filling property values with adosados"
   ]
  },
  {
   "cell_type": "markdown",
   "id": "61df3a15",
   "metadata": {},
   "source": [
    "#### Change year of construction to property age "
   ]
  },
  {
   "cell_type": "code",
   "execution_count": 1173,
   "id": "d3561ef7",
   "metadata": {},
   "outputs": [],
   "source": [
    "df_vlc[\"prop_age\"] = 2025 - df_vlc[\"prop_age\"]"
   ]
  },
  {
   "cell_type": "markdown",
   "id": "40dc65f8",
   "metadata": {},
   "source": [
    "#### Fill property age missing values \n",
    "The procedure will be to iterate over the location list and try to get the mean of the properties in that area. "
   ]
  },
  {
   "cell_type": "code",
   "execution_count": 1174,
   "id": "1eb28ded",
   "metadata": {},
   "outputs": [],
   "source": [
    "df_vlc[[\"street\", \"area\", \"city\"]] = pd.DataFrame(df_vlc[\"location\"].apply(lambda x: x[-3:] if len(x) >= 3 else [np.nan]*(3-len(x)) + x).tolist(), index=df_vlc.index)\n",
    "df_vlc[[\"street\", \"area\", \"city\"]] = df_vlc[[\"street\", \"area\", \"city\"]].replace(\"\", np.nan)"
   ]
  },
  {
   "cell_type": "code",
   "execution_count": 1175,
   "id": "eb530c77",
   "metadata": {},
   "outputs": [],
   "source": [
    "street_mean = df_vlc[df_vlc[\"prop_age\"] < 2025].groupby(\"street\")[\"prop_age\"].mean().round()\n",
    "area_mean = df_vlc[df_vlc[\"prop_age\"] < 2025].groupby(\"area\")[\"prop_age\"].mean().round()\n",
    "city_mean = df_vlc[df_vlc[\"prop_age\"] < 2025].groupby(\"city\")[\"prop_age\"].mean().round()\n",
    "global_mean = df_vlc[df_vlc[\"prop_age\"] < 2025][\"prop_age\"].mean().round()"
   ]
  },
  {
   "cell_type": "code",
   "execution_count": 1176,
   "id": "ba070a7a",
   "metadata": {},
   "outputs": [],
   "source": [
    "#Filling missing values at the street level first\n",
    "df_vlc.loc[df_vlc[\"prop_age\"] == 2025 & df_vlc[\"street\"].notna(), \"prop_age\"] = df_vlc.loc[df_vlc[\"prop_age\"] == 2025 & df_vlc[\"street\"].notna(), \"street\"].map(lambda x: street_mean.get(x, 2025))\n",
    "#Filling missing values at the area level second\n",
    "df_vlc.loc[df_vlc[\"prop_age\"] == 2025 & df_vlc[\"area\"].notna(), \"prop_age\"] = df_vlc.loc[df_vlc[\"prop_age\"] == 2025 & df_vlc[\"area\"].notna(), \"street\"].map(lambda x: area_mean.get(x, 2025))\n",
    "#Filling missing values at the city level third\n",
    "df_vlc.loc[df_vlc[\"prop_age\"] == 2025 & df_vlc[\"city\"].notna(), \"prop_age\"] = df_vlc.loc[df_vlc[\"prop_age\"] == 2025 & df_vlc[\"city\"].notna(), \"street\"].map(lambda x: city_mean.get(x, 2025))\n",
    "#Filling remaining missing values with the global mean\n",
    "df_vlc.loc[df_vlc[\"prop_age\"] == 2025, \"prop_age\"] = global_mean"
   ]
  },
  {
   "cell_type": "code",
   "execution_count": 1177,
   "id": "53ac57ec",
   "metadata": {},
   "outputs": [
    {
     "data": {
      "text/html": [
       "<div>\n",
       "<style scoped>\n",
       "    .dataframe tbody tr th:only-of-type {\n",
       "        vertical-align: middle;\n",
       "    }\n",
       "\n",
       "    .dataframe tbody tr th {\n",
       "        vertical-align: top;\n",
       "    }\n",
       "\n",
       "    .dataframe thead th {\n",
       "        text-align: right;\n",
       "    }\n",
       "</style>\n",
       "<table border=\"1\" class=\"dataframe\">\n",
       "  <thead>\n",
       "    <tr style=\"text-align: right;\">\n",
       "      <th></th>\n",
       "      <th>title</th>\n",
       "      <th>price</th>\n",
       "      <th>comment</th>\n",
       "      <th>features</th>\n",
       "      <th>tags</th>\n",
       "      <th>details</th>\n",
       "      <th>location</th>\n",
       "      <th>energia</th>\n",
       "      <th>id</th>\n",
       "      <th>rooms</th>\n",
       "      <th>...</th>\n",
       "      <th>ocupada</th>\n",
       "      <th>rented</th>\n",
       "      <th>new</th>\n",
       "      <th>good</th>\n",
       "      <th>renovate</th>\n",
       "      <th>missing_prop_type</th>\n",
       "      <th>missing_prop_age</th>\n",
       "      <th>street</th>\n",
       "      <th>area</th>\n",
       "      <th>city</th>\n",
       "    </tr>\n",
       "  </thead>\n",
       "  <tbody>\n",
       "  </tbody>\n",
       "</table>\n",
       "<p>0 rows × 53 columns</p>\n",
       "</div>"
      ],
      "text/plain": [
       "Empty DataFrame\n",
       "Columns: [title, price, comment, features, tags, details, location, energia, id, rooms, baths, m2_cons, m2_property, floor, garage, balcony, terrace, lift, AC, prop_age, pool, east, north, south, west, adosado, pareado, chalet, masia, atico, duplex, estudio, piso, casa_rustica, villa, heating, trastero, fireplace, garden, wardrobes, mobility, sea_views, nuda, ocupada, rented, new, good, renovate, missing_prop_type, missing_prop_age, street, area, city]\n",
       "Index: []\n",
       "\n",
       "[0 rows x 53 columns]"
      ]
     },
     "execution_count": 1177,
     "metadata": {},
     "output_type": "execute_result"
    }
   ],
   "source": [
    "df_vlc.loc[df_vlc[\"prop_age\"] == 2025]"
   ]
  },
  {
   "cell_type": "markdown",
   "id": "703ff287",
   "metadata": {},
   "source": [
    "#### Quality Checks "
   ]
  },
  {
   "cell_type": "code",
   "execution_count": 1178,
   "id": "f0443985",
   "metadata": {},
   "outputs": [
    {
     "data": {
      "text/plain": [
       "14408"
      ]
     },
     "execution_count": 1178,
     "metadata": {},
     "output_type": "execute_result"
    }
   ],
   "source": [
    "sum(df_vlc[\"north\"]) + sum(df_vlc[\"south\"]) + sum(df_vlc[\"east\"]) + sum(df_vlc[\"west\"])"
   ]
  },
  {
   "cell_type": "code",
   "execution_count": 1179,
   "id": "c4b79cf5",
   "metadata": {},
   "outputs": [
    {
     "data": {
      "text/plain": [
       "True"
      ]
     },
     "execution_count": 1179,
     "metadata": {},
     "output_type": "execute_result"
    }
   ],
   "source": [
    "df_vlc[\"good\"].sum() + df_vlc[\"new\"].sum() + df_vlc[\"renovate\"].sum() == df_vlc.shape[0]"
   ]
  },
  {
   "cell_type": "code",
   "execution_count": 1180,
   "id": "a8555566",
   "metadata": {},
   "outputs": [
    {
     "data": {
      "text/plain": [
       "True"
      ]
     },
     "execution_count": 1180,
     "metadata": {},
     "output_type": "execute_result"
    }
   ],
   "source": [
    "sum(df_vlc[\"m2_cons\"] > 0) == df_vlc.shape[0]"
   ]
  },
  {
   "cell_type": "code",
   "execution_count": 1181,
   "id": "f2b35335",
   "metadata": {},
   "outputs": [
    {
     "data": {
      "text/plain": [
       "False"
      ]
     },
     "execution_count": 1181,
     "metadata": {},
     "output_type": "execute_result"
    }
   ],
   "source": [
    "any(df_vlc[property_type].sum(axis = 1) == 0)"
   ]
  },
  {
   "cell_type": "markdown",
   "id": "44e3bd96",
   "metadata": {},
   "source": [
    "### Deal with optional parking spaces \n",
    "\n",
    "By default, they are treated as if they have parking space, but we can create a new column called parking_price for this cases and set the parking column as False, that way that column could be treated as parking included in the price"
   ]
  },
  {
   "cell_type": "code",
   "execution_count": 1182,
   "id": "c7e3c352",
   "metadata": {},
   "outputs": [],
   "source": [
    "def get_garage(row): \n",
    "    for feature in row: \n",
    "        match = re.match(r\"[a-zA-Z\\s]*garaje[a-zA-Z\\s]*(\\d+[,.]*\\d*)\", feature)\n",
    "        if match: \n",
    "            return int(match.group(1).replace(\".\", \"\"))\n",
    "    return 0 \n",
    "        \n",
    "df_vlc[\"parking_price\"] = df_vlc[\"details\"].apply(lambda x: get_garage(x))"
   ]
  },
  {
   "cell_type": "code",
   "execution_count": 1183,
   "id": "58d02be3",
   "metadata": {},
   "outputs": [
    {
     "data": {
      "text/plain": [
       "['62 m²',\n",
       " '3 hab.',\n",
       " 'bajo exterior sin ascensor',\n",
       " 'garajeopc.10.000 €',\n",
       " 'garajeopc.10.000 €',\n",
       " 'opc.']"
      ]
     },
     "execution_count": 1183,
     "metadata": {},
     "output_type": "execute_result"
    }
   ],
   "source": [
    "df_vlc.loc[df_vlc[\"parking_price\"] > 0, \"features\"].iloc[10] #Opcional parking spaces will have a False in the garage column, as the pattern \\bgaraje\\b is not present"
   ]
  },
  {
   "cell_type": "markdown",
   "id": "d2254718",
   "metadata": {},
   "source": [
    "### Getting the consumtion and emissions of a property \n",
    "If the energy array has size 1, it means that it doesn't have any of the attributes, if the size is 2, it contains only consumption and if the size is 3, it contains both "
   ]
  },
  {
   "cell_type": "code",
   "execution_count": 1184,
   "id": "30f926cc",
   "metadata": {},
   "outputs": [],
   "source": [
    "def has_false(x): \n",
    "    for entry in x: \n",
    "        if entry == False or entry == \"False\": \n",
    "            return True \n",
    "    return False"
   ]
  },
  {
   "cell_type": "code",
   "execution_count": 1185,
   "id": "ea949df5",
   "metadata": {},
   "outputs": [
    {
     "data": {
      "text/html": [
       "<div>\n",
       "<style scoped>\n",
       "    .dataframe tbody tr th:only-of-type {\n",
       "        vertical-align: middle;\n",
       "    }\n",
       "\n",
       "    .dataframe tbody tr th {\n",
       "        vertical-align: top;\n",
       "    }\n",
       "\n",
       "    .dataframe thead th {\n",
       "        text-align: right;\n",
       "    }\n",
       "</style>\n",
       "<table border=\"1\" class=\"dataframe\">\n",
       "  <thead>\n",
       "    <tr style=\"text-align: right;\">\n",
       "      <th></th>\n",
       "      <th>title</th>\n",
       "      <th>price</th>\n",
       "      <th>comment</th>\n",
       "      <th>features</th>\n",
       "      <th>tags</th>\n",
       "      <th>details</th>\n",
       "      <th>location</th>\n",
       "      <th>energia</th>\n",
       "      <th>id</th>\n",
       "      <th>rooms</th>\n",
       "      <th>...</th>\n",
       "      <th>rented</th>\n",
       "      <th>new</th>\n",
       "      <th>good</th>\n",
       "      <th>renovate</th>\n",
       "      <th>missing_prop_type</th>\n",
       "      <th>missing_prop_age</th>\n",
       "      <th>street</th>\n",
       "      <th>area</th>\n",
       "      <th>city</th>\n",
       "      <th>parking_price</th>\n",
       "    </tr>\n",
       "  </thead>\n",
       "  <tbody>\n",
       "  </tbody>\n",
       "</table>\n",
       "<p>0 rows × 54 columns</p>\n",
       "</div>"
      ],
      "text/plain": [
       "Empty DataFrame\n",
       "Columns: [title, price, comment, features, tags, details, location, energia, id, rooms, baths, m2_cons, m2_property, floor, garage, balcony, terrace, lift, AC, prop_age, pool, east, north, south, west, adosado, pareado, chalet, masia, atico, duplex, estudio, piso, casa_rustica, villa, heating, trastero, fireplace, garden, wardrobes, mobility, sea_views, nuda, ocupada, rented, new, good, renovate, missing_prop_type, missing_prop_age, street, area, city, parking_price]\n",
       "Index: []\n",
       "\n",
       "[0 rows x 54 columns]"
      ]
     },
     "execution_count": 1185,
     "metadata": {},
     "output_type": "execute_result"
    }
   ],
   "source": [
    "df_vlc[df_vlc[\"energia\"].apply(len) == 2 & df_vlc[\"energia\"].apply(lambda x: has_false(x))]"
   ]
  },
  {
   "cell_type": "code",
   "execution_count": 1186,
   "id": "d67745e3",
   "metadata": {},
   "outputs": [],
   "source": [
    "def energy_size_two(x):\n",
    "    if len(x) == 1: \n",
    "        return [np.nan, np.nan]\n",
    "    elif len(x) == 2: \n",
    "        return [ord(x[0]) - ord(\"a\"), np.nan]\n",
    "    else: \n",
    "        return [ord(x[0]) - ord(\"a\"), ord(x[1]) - ord(\"a\")]"
   ]
  },
  {
   "cell_type": "code",
   "execution_count": 1187,
   "id": "a577b36f",
   "metadata": {},
   "outputs": [],
   "source": [
    "df_vlc[[\"consumption\", \"emissions\"]] = pd.DataFrame(df_vlc[\"energia\"].apply(lambda x: energy_size_two(x)).to_list())"
   ]
  },
  {
   "cell_type": "code",
   "execution_count": 1188,
   "id": "f2b7593f",
   "metadata": {},
   "outputs": [],
   "source": [
    "df_vlc[\"missing_consumption\"] = df_vlc[\"consumption\"].isna() \n",
    "df_vlc[\"missing_emissions\"] = df_vlc[\"emissions\"].isna() "
   ]
  },
  {
   "cell_type": "code",
   "execution_count": 1189,
   "id": "5a57faf2",
   "metadata": {},
   "outputs": [],
   "source": [
    "df_vlc.loc[df_vlc[\"consumption\"].isna(), \"consumption\"] = -1 \n",
    "df_vlc.loc[df_vlc[\"emissions\"].isna(), \"emissions\"] = -1 \n",
    "df_vlc[\"consumption\"] = df_vlc[\"consumption\"].astype(\"int64\") \n",
    "df_vlc[\"emissions\"] = df_vlc[\"emissions\"].astype(\"int64\")"
   ]
  },
  {
   "cell_type": "markdown",
   "id": "d26cc07a",
   "metadata": {},
   "source": [
    "### Getting the latitude and longitude based on the location"
   ]
  },
  {
   "cell_type": "code",
   "execution_count": 1190,
   "id": "c661fdff",
   "metadata": {},
   "outputs": [],
   "source": [
    "df_vlc.reset_index(inplace = True) "
   ]
  },
  {
   "cell_type": "code",
   "execution_count": 1191,
   "id": "9db95ddd",
   "metadata": {},
   "outputs": [],
   "source": [
    "df_lat_lon = pd.read_csv(\"../working_data/lat_lon_vlc.csv\")"
   ]
  },
  {
   "cell_type": "code",
   "execution_count": 1192,
   "id": "76e98b2e",
   "metadata": {},
   "outputs": [],
   "source": [
    "df_vlc[[\"latitude\", \"longitude\"]] = df_lat_lon"
   ]
  },
  {
   "cell_type": "markdown",
   "id": "1af9f883",
   "metadata": {},
   "source": [
    "#### Training a clustering algorithm for the latitude and longitude "
   ]
  },
  {
   "cell_type": "code",
   "execution_count": 1193,
   "id": "f08b2447",
   "metadata": {},
   "outputs": [],
   "source": [
    "coords = df_vlc.loc[df_vlc[\"latitude\"].notna(), [\"latitude\", \"longitude\"]].values"
   ]
  },
  {
   "cell_type": "code",
   "execution_count": 1194,
   "id": "32748e85",
   "metadata": {},
   "outputs": [],
   "source": [
    "K_range = range(4, 25)  # you can adjust the range\n",
    "inertia_values = []\n",
    "for k in K_range:\n",
    "    kmeans = KMeans(n_clusters=k, random_state=42)\n",
    "    kmeans.fit(coords)\n",
    "    inertia_values.append(kmeans.inertia_)"
   ]
  },
  {
   "cell_type": "code",
   "execution_count": 1195,
   "id": "748d2647",
   "metadata": {},
   "outputs": [
    {
     "data": {
      "image/png": "[encoded data removed]",
      "text/plain": [
       "<Figure size 600x400 with 1 Axes>"
      ]
     },
     "metadata": {},
     "output_type": "display_data"
    }
   ],
   "source": [
    "plt.figure(figsize=(6,4))\n",
    "plt.plot(K_range, inertia_values, marker='o')\n",
    "plt.xlabel('Number of clusters (k)')\n",
    "plt.ylabel('Inertia')\n",
    "plt.title('Elbow Method for KMeans Clustering')\n",
    "plt.grid(True)\n",
    "plt.show()"
   ]
  },
  {
   "cell_type": "code",
   "execution_count": 1196,
   "id": "c11699af",
   "metadata": {},
   "outputs": [],
   "source": [
    "optimal_k = 12 #We need to look for an elbow in the image, as that will determine where adding more clusters doesn't affect that much the inertia (distance from cluster centroid to point). \n",
    "kmeans = KMeans(n_clusters=optimal_k, random_state=42)\n",
    "df_vlc[\"location_cluster\"] = -1 #for NaN values \n",
    "df_vlc.loc[df_vlc[\"latitude\"].notna(), \"location_cluster\"] = kmeans.fit_predict(coords)"
   ]
  },
  {
   "cell_type": "markdown",
   "id": "744876d6",
   "metadata": {},
   "source": [
    "#### Removing the columns where we extracted the data \n",
    "Now that we've already extracted the data from the columns, we will delete them, as they shouldn't be passed to the ML algorithm. "
   ]
  },
  {
   "cell_type": "code",
   "execution_count": 1197,
   "id": "c4013263",
   "metadata": {},
   "outputs": [
    {
     "data": {
      "text/plain": [
       "Index(['index', 'title', 'price', 'comment', 'features', 'tags', 'details',\n",
       "       'location', 'energia', 'id', 'rooms', 'baths', 'm2_cons', 'm2_property',\n",
       "       'floor', 'garage', 'balcony', 'terrace', 'lift', 'AC', 'prop_age',\n",
       "       'pool', 'east', 'north', 'south', 'west', 'adosado', 'pareado',\n",
       "       'chalet', 'masia', 'atico', 'duplex', 'estudio', 'piso', 'casa_rustica',\n",
       "       'villa', 'heating', 'trastero', 'fireplace', 'garden', 'wardrobes',\n",
       "       'mobility', 'sea_views', 'nuda', 'ocupada', 'rented', 'new', 'good',\n",
       "       'renovate', 'missing_prop_type', 'missing_prop_age', 'street', 'area',\n",
       "       'city', 'parking_price', 'consumption', 'emissions',\n",
       "       'missing_consumption', 'missing_emissions', 'latitude', 'longitude',\n",
       "       'location_cluster'],\n",
       "      dtype='object')"
      ]
     },
     "execution_count": 1197,
     "metadata": {},
     "output_type": "execute_result"
    }
   ],
   "source": [
    "df_vlc.columns"
   ]
  },
  {
   "cell_type": "code",
   "execution_count": 1198,
   "id": "933c8e4f",
   "metadata": {},
   "outputs": [],
   "source": [
    "del_columns = [\"index\", \"title\", \"comment\", \"features\", \"tags\", \"details\", \"location\", \"energia\", \"id\", \"street\", \"area\", \"city\", \"latitude\", \"longitude\"]\n",
    "df_vlc.drop(columns = del_columns, inplace = True)"
   ]
  },
  {
   "cell_type": "code",
   "execution_count": 1199,
   "id": "45ae32b6",
   "metadata": {},
   "outputs": [],
   "source": [
    "df_vlc.to_csv(\"../working_data/properties_vlc_clean.csv\", index = False)"
   ]
  },
  {
   "cell_type": "markdown",
   "id": "62159b78",
   "metadata": {},
   "source": [
    "#### Printing the number of not empty ocurrences and percetange of all columns"
   ]
  },
  {
   "cell_type": "code",
   "execution_count": 1200,
   "id": "060bfecb",
   "metadata": {},
   "outputs": [
    {
     "name": "stdout",
     "output_type": "stream",
     "text": [
      "rooms: 17024 -> 98.70%\n",
      "baths: 16919 -> 98.09%\n",
      "m2_cons: 17249 -> 100.00%\n",
      "m2_property: 17249 -> 100.00%\n",
      "floor: 17249 -> 100.00%\n",
      "garage: 7388 -> 42.83%\n",
      "balcony: 6641 -> 38.50%\n",
      "terrace: 10278 -> 59.59%\n",
      "lift: 5252 -> 30.45%\n",
      "AC: 7928 -> 45.96%\n",
      "prop_age: 17177 -> 99.58%\n",
      "pool: 4830 -> 28.00%\n",
      "east: 4927 -> 28.56%\n",
      "north: 2544 -> 14.75%\n",
      "south: 4063 -> 23.55%\n",
      "west: 2874 -> 16.66%\n",
      "adosado: 2328 -> 13.50%\n",
      "pareado: 677 -> 3.92%\n",
      "chalet: 4245 -> 24.61%\n",
      "masia: 50 -> 0.29%\n",
      "atico: 573 -> 3.32%\n",
      "duplex: 398 -> 2.31%\n",
      "estudio: 131 -> 0.76%\n",
      "piso: 6993 -> 40.54%\n",
      "casa_rustica: 989 -> 5.73%\n",
      "villa: 881 -> 5.11%\n",
      "heating: 5988 -> 34.72%\n",
      "trastero: 6907 -> 40.04%\n",
      "fireplace: 515 -> 2.99%\n",
      "garden: 4193 -> 24.31%\n",
      "wardrobes: 8589 -> 49.79%\n",
      "mobility: 2456 -> 14.24%\n",
      "sea_views: 1144 -> 6.63%\n",
      "nuda: 71 -> 0.41%\n",
      "ocupada: 201 -> 1.17%\n",
      "rented: 341 -> 1.98%\n",
      "new: 753 -> 4.37%\n",
      "good: 13846 -> 80.27%\n",
      "renovate: 2650 -> 15.36%\n",
      "missing_prop_type: 679 -> 3.94%\n",
      "missing_prop_age: 7261 -> 42.10%\n",
      "parking_price: 308 -> 1.79%\n",
      "consumption: 5245 -> 30.41%\n",
      "emissions: 4812 -> 27.90%\n",
      "missing_consumption: 11523 -> 66.80%\n",
      "missing_emissions: 11922 -> 69.12%\n",
      "location_cluster: 14654 -> 84.96%\n"
     ]
    }
   ],
   "source": [
    "for col in df_vlc.columns: \n",
    "    if df_vlc[col].dtype == \"int64\":\n",
    "        print(f\"{col}: {sum(df_vlc[col] > 0)} -> {sum(df_vlc[col] > 0) / df_vlc.shape[0]:.2%}\")\n",
    "    elif df_vlc[col].dtype == \"bool\": \n",
    "        print(f\"{col}: {sum(df_vlc[col])} -> {sum(df_vlc[col]) / df_vlc.shape[0]:.2%}\")"
   ]
  },
  {
   "cell_type": "code",
   "execution_count": null,
   "id": "8244e7b9",
   "metadata": {},
   "outputs": [],
   "source": []
  }
 ],
 "metadata": {
  "kernelspec": {
   "display_name": "data_env",
   "language": "python",
   "name": "python3"
  },
  "language_info": {
   "codemirror_mode": {
    "name": "ipython",
    "version": 3
   },
   "file_extension": ".py",
   "mimetype": "text/x-python",
   "name": "python",
   "nbconvert_exporter": "python",
   "pygments_lexer": "ipython3",
   "version": "3.12.7"
  }
 },
 "nbformat": 4,
 "nbformat_minor": 5
}
