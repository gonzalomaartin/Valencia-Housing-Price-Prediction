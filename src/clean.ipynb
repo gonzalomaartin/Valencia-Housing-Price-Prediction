{
 "cells": [
  {
   "cell_type": "markdown",
   "id": "94cd4021",
   "metadata": {},
   "source": [
    "# TODO: \n",
    "\n",
    "\n",
    "- Drop the id and discount columns\n",
    "- Accept northest, southwest as an orientation (small change)\n",
    "- On the cleaning pipeline, you should remove the NaN values, before passing through any file.\n",
    "- Add more feature engineering: distance to center, distance to the beach...  "
   ]
  },
  {
   "cell_type": "code",
   "execution_count": 63,
   "id": "99004c53-7379-4045-acc1-3bb6559c7e25",
   "metadata": {},
   "outputs": [],
   "source": [
    "import pandas as pd, ast\n",
    "import matplotlib.pyplot as plt \n",
    "import numpy as np \n",
    "import re \n",
    "from functools import cache \n",
    "from geopy.geocoders import Nominatim\n",
    "from geopy.extra.rate_limiter import RateLimiter\n",
    "import time \n",
    "from sklearn.cluster import KMeans "
   ]
  },
  {
   "cell_type": "code",
   "execution_count": 64,
   "id": "9ef5328d-05f6-4551-87e4-a9177b7f6144",
   "metadata": {},
   "outputs": [],
   "source": [
    "df_vlc = pd.read_csv(\"../working_data/properties_vlc.csv\") "
   ]
  },
  {
   "cell_type": "markdown",
   "id": "f4d5f683",
   "metadata": {},
   "source": [
    "### Dropping NaN values & cols"
   ]
  },
  {
   "cell_type": "code",
   "execution_count": 65,
   "id": "508f7766",
   "metadata": {},
   "outputs": [
    {
     "data": {
      "text/plain": [
       "True"
      ]
     },
     "execution_count": 65,
     "metadata": {},
     "output_type": "execute_result"
    }
   ],
   "source": [
    "df_vlc.dropna(subset = [\"title\"]).equals(df_vlc.dropna(subset = [\"price\"]))"
   ]
  },
  {
   "cell_type": "code",
   "execution_count": 66,
   "id": "68c8b1e5",
   "metadata": {},
   "outputs": [],
   "source": [
    "df_vlc.dropna(subset = [\"title\"], inplace = True)\n",
    "df_vlc.drop(columns = [\"discount\"], inplace = True)"
   ]
  },
  {
   "cell_type": "markdown",
   "id": "536d05df",
   "metadata": {},
   "source": [
    "### Convert string features into lists "
   ]
  },
  {
   "cell_type": "code",
   "execution_count": 67,
   "id": "f0ec3115",
   "metadata": {},
   "outputs": [
    {
     "data": {
      "text/plain": [
       "Index(['title', 'price', 'comment', 'features', 'tags', 'details', 'location',\n",
       "       'energia', 'id'],\n",
       "      dtype='object')"
      ]
     },
     "execution_count": 67,
     "metadata": {},
     "output_type": "execute_result"
    }
   ],
   "source": [
    "df_vlc.columns"
   ]
  },
  {
   "cell_type": "code",
   "execution_count": 68,
   "id": "38ff7aff",
   "metadata": {},
   "outputs": [
    {
     "data": {
      "text/plain": [
       "str"
      ]
     },
     "execution_count": 68,
     "metadata": {},
     "output_type": "execute_result"
    }
   ],
   "source": [
    "type(df_vlc.loc[0, \"features\"][0])"
   ]
  },
  {
   "cell_type": "code",
   "execution_count": 69,
   "id": "f1374cfc",
   "metadata": {},
   "outputs": [],
   "source": [
    "list_features = [\"features\", \"tags\", \"details\", \"location\", \"energia\"]\n",
    "\n",
    "for feature in list_features: \n",
    "    df_vlc[feature] = df_vlc[feature].apply(ast.literal_eval)"
   ]
  },
  {
   "cell_type": "markdown",
   "id": "610e96bf",
   "metadata": {},
   "source": [
    "### Data Cleaning "
   ]
  },
  {
   "cell_type": "code",
   "execution_count": 70,
   "id": "5bac0863",
   "metadata": {},
   "outputs": [],
   "source": [
    "def find_number(row, substr1, substr2):\n",
    "    #Iterate over each row of the DataFrame and for each row iterate over each feature and check if it contains the given string and if that's the case return the number\n",
    "    if isinstance(row, list): \n",
    "        for feature in row: \n",
    "            match = re.search(rf\"{substr1}[a-zA-Z\\s]*(\\d+[.,]*\\d*)[a-zA-Z\\s]*{substr2}\", feature)\n",
    "            if match: \n",
    "                return int(match.group(1).replace(\".\", \"\").replace(\",\", \"\"))\n",
    "    elif isinstance(row, str):  \n",
    "        match = re.search(rf\"{substr1}[a-zA-Z\\s]*(\\d+[.,]*\\d*)[a-zA-Z\\s]*{substr2}\", row)\n",
    "        if match: \n",
    "            return int(match.group(1).replace(\".\", \"\").replace(\",\", \"\"))\n",
    "        \n",
    "    return 0 "
   ]
  },
  {
   "cell_type": "code",
   "execution_count": 71,
   "id": "f622d2a1",
   "metadata": {},
   "outputs": [],
   "source": [
    "def find_feature(row, substr): \n",
    "    if isinstance(row, list): \n",
    "        for feature in row: \n",
    "            match1 = re.search(rf\"\\b(no|sin)\\b.*\\b{substr}\\b\", feature)\n",
    "            match2 = re.search(rf\"\\b{substr}\\b\", feature)\n",
    "            if match2: \n",
    "                return not bool(match1) #if you captured (no|sin) return False\n",
    "    elif isinstance(row, str): \n",
    "        match = re.search(rf\"\\b{substr}\\b\", row)\n",
    "        if match: \n",
    "            return True \n",
    "        \n",
    "    return False "
   ]
  },
  {
   "cell_type": "markdown",
   "id": "29ee4de8",
   "metadata": {},
   "source": [
    "#### Reason to use the features column to take the rooms"
   ]
  },
  {
   "cell_type": "code",
   "execution_count": 72,
   "id": "f74cf942",
   "metadata": {},
   "outputs": [
    {
     "data": {
      "text/plain": [
       "61220"
      ]
     },
     "execution_count": 72,
     "metadata": {},
     "output_type": "execute_result"
    }
   ],
   "source": [
    "sum(df_vlc[\"details\"].apply(lambda x: find_number(x, \"\", \"hab\")))"
   ]
  },
  {
   "cell_type": "code",
   "execution_count": 73,
   "id": "fd792f36",
   "metadata": {},
   "outputs": [
    {
     "data": {
      "text/plain": [
       "61485"
      ]
     },
     "execution_count": 73,
     "metadata": {},
     "output_type": "execute_result"
    }
   ],
   "source": [
    "sum(df_vlc[\"features\"].apply(lambda x: find_number(x, \"\", \"hab\")))"
   ]
  },
  {
   "cell_type": "code",
   "execution_count": 74,
   "id": "ca4c11cc",
   "metadata": {},
   "outputs": [
    {
     "data": {
      "text/plain": [
       "(0, 0)"
      ]
     },
     "execution_count": 74,
     "metadata": {},
     "output_type": "execute_result"
    }
   ],
   "source": [
    "sum(df_vlc[\"features\"].apply(lambda x: find_number(x, \"hab\", \"\"))), sum(df_vlc[\"details\"].apply(lambda x: find_number(x, \"hab\", \"\")))"
   ]
  },
  {
   "cell_type": "code",
   "execution_count": 75,
   "id": "844de06d",
   "metadata": {},
   "outputs": [
    {
     "data": {
      "text/plain": [
       "0"
      ]
     },
     "execution_count": 75,
     "metadata": {},
     "output_type": "execute_result"
    }
   ],
   "source": [
    "df_hab = df_vlc[\"features\"].apply(lambda x: find_number(x, \"\", \"hab\"))\n",
    "sum(df_vlc[df_hab == 0][\"details\"].apply(lambda x: find_number(x, \"\", \"hab\")))"
   ]
  },
  {
   "cell_type": "markdown",
   "id": "4bace419",
   "metadata": {},
   "source": [
    "#### Reason to take the details column to take the bathrooms"
   ]
  },
  {
   "cell_type": "code",
   "execution_count": 76,
   "id": "e55ebbb0",
   "metadata": {},
   "outputs": [
    {
     "data": {
      "text/plain": [
       "35680"
      ]
     },
     "execution_count": 76,
     "metadata": {},
     "output_type": "execute_result"
    }
   ],
   "source": [
    "sum(df_vlc[\"details\"].apply(lambda x: find_number(x, \"\", \"bañ\")))"
   ]
  },
  {
   "cell_type": "code",
   "execution_count": 77,
   "id": "25d73d1c",
   "metadata": {},
   "outputs": [
    {
     "data": {
      "text/plain": [
       "(0, 0)"
      ]
     },
     "execution_count": 77,
     "metadata": {},
     "output_type": "execute_result"
    }
   ],
   "source": [
    "sum(df_vlc[\"features\"].apply(lambda x: find_number(x, \"\", \"bañ\"))), sum(df_vlc[\"details\"].apply(lambda x: find_number(x, \"bañ\", \"\")))"
   ]
  },
  {
   "cell_type": "markdown",
   "id": "cc99d52b",
   "metadata": {},
   "source": [
    "#### Reason to use the features column to take the floor "
   ]
  },
  {
   "cell_type": "code",
   "execution_count": 78,
   "id": "3939de41",
   "metadata": {},
   "outputs": [
    {
     "data": {
      "text/plain": [
       "6269"
      ]
     },
     "execution_count": 78,
     "metadata": {},
     "output_type": "execute_result"
    }
   ],
   "source": [
    "(df_vlc[\"details\"].apply(lambda x: find_number(x, \"planta\", \"\")) != 0).sum()"
   ]
  },
  {
   "cell_type": "code",
   "execution_count": 79,
   "id": "7fed692f",
   "metadata": {},
   "outputs": [
    {
     "data": {
      "text/plain": [
       "6341"
      ]
     },
     "execution_count": 79,
     "metadata": {},
     "output_type": "execute_result"
    }
   ],
   "source": [
    "(df_vlc[\"features\"].apply(lambda x: find_number(x, \"planta\", \"\")) != 0).sum()"
   ]
  },
  {
   "cell_type": "code",
   "execution_count": 80,
   "id": "65049c2d",
   "metadata": {},
   "outputs": [
    {
     "data": {
      "text/plain": [
       "(0, 6683)"
      ]
     },
     "execution_count": 80,
     "metadata": {},
     "output_type": "execute_result"
    }
   ],
   "source": [
    "(df_vlc[\"features\"].apply(lambda x: find_number(x, \"\", \"planta\")) != 0).sum(), (df_vlc[\"details\"].apply(lambda x: find_number(x, \"\", \"planta\")) != 0).sum()"
   ]
  },
  {
   "cell_type": "code",
   "execution_count": 81,
   "id": "e267278b",
   "metadata": {},
   "outputs": [
    {
     "data": {
      "text/plain": [
       "0"
      ]
     },
     "execution_count": 81,
     "metadata": {},
     "output_type": "execute_result"
    }
   ],
   "source": [
    "df_floors = df_vlc[\"features\"].apply(lambda x: find_number(x, \"planta\", \"\"))\n",
    "sum(df_vlc[df_floors == 0][\"details\"].apply(lambda x: find_number(x, \"planta\", \"\")))"
   ]
  },
  {
   "cell_type": "markdown",
   "id": "ff8f9a65",
   "metadata": {},
   "source": [
    "#### Reason to use the features column to take the lift"
   ]
  },
  {
   "cell_type": "code",
   "execution_count": 82,
   "id": "1b5e7a2e",
   "metadata": {},
   "outputs": [],
   "source": [
    "df_ascensor = df_vlc[\"details\"].apply(lambda x: find_feature(x, \"ascensor\"))"
   ]
  },
  {
   "cell_type": "code",
   "execution_count": 83,
   "id": "0ce26bd0",
   "metadata": {},
   "outputs": [
    {
     "data": {
      "text/plain": [
       "5163"
      ]
     },
     "execution_count": 83,
     "metadata": {},
     "output_type": "execute_result"
    }
   ],
   "source": [
    "sum(df_ascensor)"
   ]
  },
  {
   "cell_type": "code",
   "execution_count": 84,
   "id": "e67f61be",
   "metadata": {},
   "outputs": [
    {
     "data": {
      "text/plain": [
       "89"
      ]
     },
     "execution_count": 84,
     "metadata": {},
     "output_type": "execute_result"
    }
   ],
   "source": [
    "sum(df_vlc[df_ascensor == False][\"features\"].apply(lambda x: find_feature(x, \"ascensor\")))"
   ]
  },
  {
   "cell_type": "code",
   "execution_count": 85,
   "id": "cd2ddf21",
   "metadata": {},
   "outputs": [
    {
     "data": {
      "text/plain": [
       "5252"
      ]
     },
     "execution_count": 85,
     "metadata": {},
     "output_type": "execute_result"
    }
   ],
   "source": [
    "sum(df_vlc[\"features\"].apply(lambda x: find_feature(x, \"ascensor\")))"
   ]
  },
  {
   "cell_type": "markdown",
   "id": "80cffc01",
   "metadata": {},
   "source": [
    "#### Reason to use the features column to take the garage"
   ]
  },
  {
   "cell_type": "code",
   "execution_count": 86,
   "id": "40af07d6",
   "metadata": {},
   "outputs": [
    {
     "data": {
      "text/plain": [
       "7077"
      ]
     },
     "execution_count": 86,
     "metadata": {},
     "output_type": "execute_result"
    }
   ],
   "source": [
    "sum(df_vlc[\"features\"].apply(lambda x: find_feature(x, \"garaje\")))"
   ]
  },
  {
   "cell_type": "code",
   "execution_count": 87,
   "id": "0f285029",
   "metadata": {},
   "outputs": [
    {
     "data": {
      "text/plain": [
       "7333"
      ]
     },
     "execution_count": 87,
     "metadata": {},
     "output_type": "execute_result"
    }
   ],
   "source": [
    "sum(df_vlc[\"details\"].apply(lambda x: find_feature(x, \"garaje\")))"
   ]
  },
  {
   "cell_type": "code",
   "execution_count": 88,
   "id": "7c4a03e2",
   "metadata": {},
   "outputs": [
    {
     "data": {
      "text/plain": [
       "311"
      ]
     },
     "execution_count": 88,
     "metadata": {},
     "output_type": "execute_result"
    }
   ],
   "source": [
    "df_garaje = df_vlc[\"features\"].apply(lambda x: find_feature(x, \"garaje\"))\n",
    "sum(df_vlc[df_garaje == False][\"details\"].apply(lambda x: find_feature(x, \"garaje\")))"
   ]
  },
  {
   "cell_type": "markdown",
   "id": "7661e0d7",
   "metadata": {},
   "source": [
    "### Creating new columns "
   ]
  },
  {
   "cell_type": "code",
   "execution_count": 89,
   "id": "66771748-dc7e-4753-abb2-a0e930b6e44d",
   "metadata": {},
   "outputs": [],
   "source": [
    "new_cols = { # (col to look at, substring before, substring after, returning a number )\n",
    "    \"rooms\": (\"features\", \"\", \"hab\", True), \n",
    "    \"baths\": (\"details\", \"\", \"baño\", True),\n",
    "    \"m2_cons\": (\"details\", \"\", \"m² construidos\", True),\n",
    "    \"m2_property\": (\"details\", \"parcela\", \"m²\", True), \n",
    "    \"floor\": (\"features\", \"planta\", \"\", True), \n",
    "    \"garage\": (\"features\", \"garaje\", \"\", False), \n",
    "    \"balcony\": (\"details\", \"balc[oó]n\", \"\", False), \n",
    "    \"terrace\": (\"details\", \"terraza\", \"\", False), \n",
    "    \"lift\": (\"features\", \"ascensor\", \"\", False), \n",
    "    \"AC\": (\"details\", \"aire acondicionado\", \"\", False), \n",
    "    \"prop_age\": (\"details\", \"construido en\", \"\", True), \n",
    "    \"pool\": (\"details\", \"piscina\", \"\", False), \n",
    "    \"east\": (\"details\", \"este\", \"\", False), \n",
    "    \"north\": (\"details\", \"norte\", \"\", False), \n",
    "    \"south\": (\"details\", \"sur\", \"\", False), \n",
    "    \"west\": (\"details\", \"oeste\", \"\", False), \n",
    "    \"adosado\": (\"title\", \"chalet adosado\", \"\", False), \n",
    "    \"pareado\": (\"title\", \"chalet pareado\", \"\", False), \n",
    "    \"chalet\": (\"title\", \"chalet independiente\", \"\", False), \n",
    "    \"masia\": (\"title\", \"mas[ií]a\", \"\", False), \n",
    "    \"atico\": (\"title\", \"[aá]tico\", \"\", False), \n",
    "    \"duplex\": (\"title\", \"d[uú]plex\", \"\", False), \n",
    "    \"estudio\": (\"title\", \"estudio\", \"\", False), \n",
    "    \"piso\": (\"title\", \"piso\", \"\", False), \n",
    "    \"casa_rustica\": (\"title\", \"casa de pueblo\", \"\", False), \n",
    "    \"villa\": (\"tags\", \"villa\", \"\", False), \n",
    "    \"heating\": (\"details\", \"calefacci[oó]n\", \"\", False), \n",
    "    \"trastero\": (\"details\", \"trastero\", \"\", False), \n",
    "    \"fireplace\": (\"details\", \"chimenea\", \"\", False), \n",
    "    \"garden\": (\"details\", \"jard[ií]n\", \"\", False), \n",
    "    \"wardrobes\": (\"details\", \"armarios empotrados\", \"\", False), \n",
    "    \"mobility\": (\"details\", \"movilidad reducida\", \"\", False), \n",
    "    \"sea_views\": (\"tags\", \"vistas al mar\", \"\", False), \n",
    "    \"nuda\": (\"tags\", \"nuda propiedad\", \"\", False), \n",
    "    \"ocupada\": (\"tags\", \"ocupada ilegalmente\", \"\", False), \n",
    "    \"rented\": (\"tags\", \"alquilada\", \"\", False), \n",
    "    \"new\": (\"features\", \"obra nueva\", \"\", False), \n",
    "    \"good\": (\"details\", \"buen estado\", \"\", False), \n",
    "    \"renovate\": (\"details\", \"para reformar\", \"\", False), \n",
    "\n",
    "}\n",
    "\n",
    "# fill_zero as a list of (target_col, source_col, substr1, substr2, returns_number) entries\n",
    "fill_zero = [\n",
    "    (\"m2_cons\", \"features\", \"\", \"m²\", True),\n",
    "    (\"floor\", \"details\", \"planta\", \"\", True),\n",
    "    (\"floor\", \"details\", \"\", \"planta\", True),\n",
    "    (\"garage\", \"details\", \"garaje\", \"\", False),\n",
    "    (\"casa_rustica\", \"title\", \"casa rural\", \"\", False),\n",
    "    (\"casa_rustica\", \"title\", \"r[uú]stica\", \"\", False),\n",
    "    (\"casa_rustica\", \"title\", \"cortijo\", \"\", False),\n",
    "    (\"casa_rustica\", \"title\", \"caser[oó]n\", \"\", False),\n",
    "]\n",
    "\n",
    "negations = [\"sin\", \"no\"]\n",
    "property_type = [\"adosado\", \"pareado\", \"chalet\", \"masia\", \"atico\", \"duplex\", \"estudio\", \"piso\", \"casa_rustica\", \"villa\"]\n",
    "property_states = [\"new\", \"good\", \"renovate\"]"
   ]
  },
  {
   "cell_type": "code",
   "execution_count": 90,
   "id": "44e0cef1-c0bd-49d9-9892-bdce230f3268",
   "metadata": {},
   "outputs": [],
   "source": [
    "#keys = [\"price\", \"rooms\", \"baths\", \"floor\", \"garage\", \"address\", \"m2_constructed\", \"m2_property\", \"balcony\", \"propertyType\", \"description\", \"lift\", \"air conditioning\", \"year_constructed\", \n",
    "#\"housing_state\", \"pool\", \"orientation\", \"heating\", \"trastero\", \"fireplace\", \"garden\", \"sea views\", \"armarios_empotrados\", \"movilidad_reducida\"]\n"
   ]
  },
  {
   "cell_type": "code",
   "execution_count": 91,
   "id": "519769af",
   "metadata": {},
   "outputs": [],
   "source": [
    "df_vlc[\"price\"] = df_vlc[\"price\"].str.replace(\"€\", \"\").str.replace(\".\", \"\").astype(\"Int64\")"
   ]
  },
  {
   "cell_type": "code",
   "execution_count": 92,
   "id": "117a78dd",
   "metadata": {},
   "outputs": [],
   "source": [
    "for name, (col, substr1, substr2, number) in new_cols.items():  \n",
    "    if number: \n",
    "        df_vlc[name] = df_vlc[col].apply(lambda x: find_number(x, substr1, substr2))\n",
    "    else: \n",
    "        df_vlc[name] = df_vlc[col].apply(lambda x: find_feature(x, substr1))"
   ]
  },
  {
   "cell_type": "code",
   "execution_count": 93,
   "id": "63356d3e",
   "metadata": {},
   "outputs": [],
   "source": [
    "# iterate over the list of fill rules so multiple patterns per target are tried\n",
    "for name, col, substr1, substr2, number in fill_zero:\n",
    "    if number:\n",
    "        mask = df_vlc[name] == 0\n",
    "        df_vlc.loc[mask, name] = df_vlc.loc[mask, col].apply(lambda x: find_number(x, substr1, substr2))\n",
    "    else:\n",
    "        mask = df_vlc[name] == False\n",
    "        df_vlc.loc[mask, name] = df_vlc.loc[mask, col].apply(lambda x: find_feature(x, substr1))"
   ]
  },
  {
   "cell_type": "markdown",
   "id": "70918f0e",
   "metadata": {},
   "source": [
    "#### Creating flag features for empty entries"
   ]
  },
  {
   "cell_type": "code",
   "execution_count": 94,
   "id": "1ab9bbe3",
   "metadata": {},
   "outputs": [],
   "source": [
    "df_vlc[\"missing_prop_type\"] = df_vlc[property_type].sum(axis = 1) == 0\n",
    "df_vlc[\"missing_prop_age\"] = df_vlc[\"prop_age\"] == 0"
   ]
  },
  {
   "cell_type": "markdown",
   "id": "11a13bed",
   "metadata": {},
   "source": [
    "#### Filling missing values "
   ]
  },
  {
   "cell_type": "code",
   "execution_count": 95,
   "id": "30359b0e",
   "metadata": {},
   "outputs": [],
   "source": [
    "df_vlc.loc[df_vlc[\"m2_property\"] == 0, \"m2_property\"] = df_vlc[\"m2_cons\"] \n",
    "#df_vlc.loc[df_vlc[\"floor\"] == 0, \"floor\"] = 1\n",
    "df_vlc = df_vlc[(df_vlc[\"rooms\"] > 0) & (df_vlc[\"baths\"] > 0)]\n",
    "df_vlc.loc[df_vlc[\"villa\"] == True, \"chalet\"] = False \n",
    "df_vlc.loc[df_vlc[property_type].sum(axis = 1) == 0, \"adosado\"] = True #Filling property values with adosados"
   ]
  },
  {
   "cell_type": "code",
   "execution_count": 96,
   "id": "3a1452fb",
   "metadata": {},
   "outputs": [
    {
     "name": "stdout",
     "output_type": "stream",
     "text": [
      "Applying data quality improvements and feature engineering...\n",
      "Removing 809 outliers (4.8% of data)\n",
      "Enhanced feature engineering completed!\n"
     ]
    }
   ],
   "source": [
    "# Enhanced data quality filtering and feature engineering\n",
    "print(\"Applying data quality improvements and feature engineering...\")\n",
    "\n",
    "# 1. Basic data quality fixes\n",
    "df_vlc.loc[df_vlc[\"m2_property\"] == 0, \"m2_property\"] = df_vlc[\"m2_cons\"] \n",
    "df_vlc = df_vlc[(df_vlc[\"rooms\"] > 0) & (df_vlc[\"baths\"] > 0)]\n",
    "df_vlc.loc[df_vlc[\"villa\"] == True, \"chalet\"] = False \n",
    "df_vlc.loc[df_vlc[property_type].sum(axis = 1) == 0, \"adosado\"] = True\n",
    "\n",
    "# 2. Price per square meter (most predictive feature for real estate)\n",
    "df_vlc[\"price_per_m2\"] = df_vlc[\"price\"] / df_vlc[\"m2_cons\"].replace(0, np.nan)\n",
    "df_vlc[\"price_per_m2\"] = df_vlc[\"price_per_m2\"].fillna(df_vlc[\"price_per_m2\"].median())\n",
    "\n",
    "# 3. Room and space efficiency ratios\n",
    "df_vlc[\"room_efficiency\"] = df_vlc[\"rooms\"] / df_vlc[\"m2_cons\"].replace(0, np.nan)\n",
    "df_vlc[\"room_efficiency\"] = df_vlc[\"room_efficiency\"].fillna(df_vlc[\"room_efficiency\"].median())\n",
    "df_vlc[\"bath_to_room_ratio\"] = df_vlc[\"baths\"] / df_vlc[\"rooms\"].replace(0, np.nan)\n",
    "df_vlc[\"bath_to_room_ratio\"] = df_vlc[\"bath_to_room_ratio\"].fillna(0.5)\n",
    "\n",
    "# 4. Luxury score (combination of high-end features)\n",
    "luxury_features = [\"sea_views\", \"pool\", \"garden\", \"fireplace\", \"AC\", \"lift\"]\n",
    "df_vlc[\"luxury_score\"] = df_vlc[luxury_features].sum(axis=1)\n",
    "\n",
    "# 5. Orientation score (south-facing is premium in Spain)\n",
    "df_vlc[\"orientation_score\"] = (df_vlc[\"south\"] * 2 + df_vlc[\"east\"] * 1 + df_vlc[\"west\"] * 1 + df_vlc[\"north\"] * 0.5)\n",
    "\n",
    "# 6. Outlier detection and removal (remove extreme values that hurt model accuracy)\n",
    "price_q01, price_q99 = df_vlc[\"price\"].quantile([0.01, 0.99])\n",
    "m2_q01, m2_q99 = df_vlc[\"m2_cons\"].quantile([0.01, 0.99])\n",
    "age_q99 = df_vlc[\"prop_age\"].quantile(0.99)\n",
    "\n",
    "outlier_mask = (\n",
    "    (df_vlc[\"price\"] >= price_q01) & (df_vlc[\"price\"] <= price_q99) &\n",
    "    (df_vlc[\"m2_cons\"] >= m2_q01) & (df_vlc[\"m2_cons\"] <= m2_q99) &\n",
    "    (df_vlc[\"prop_age\"] <= age_q99) &\n",
    "    (df_vlc[\"price_per_m2\"] <= df_vlc[\"price_per_m2\"].quantile(0.99))\n",
    ")\n",
    "\n",
    "print(f\"Removing {(~outlier_mask).sum()} outliers ({(~outlier_mask).mean():.1%} of data)\")\n",
    "df_vlc = df_vlc[outlier_mask].copy()\n",
    "\n",
    "print(\"Enhanced feature engineering completed!\")"
   ]
  },
  {
   "cell_type": "markdown",
   "id": "61df3a15",
   "metadata": {},
   "source": [
    "#### Change year of construction to property age "
   ]
  },
  {
   "cell_type": "code",
   "execution_count": 97,
   "id": "d3561ef7",
   "metadata": {},
   "outputs": [],
   "source": [
    "df_vlc[\"prop_age\"] = 2025 - df_vlc[\"prop_age\"]"
   ]
  },
  {
   "cell_type": "markdown",
   "id": "40dc65f8",
   "metadata": {},
   "source": [
    "#### Fill property age missing values \n",
    "The procedure will be to iterate over the location list and try to get the mean of the properties in that area. "
   ]
  },
  {
   "cell_type": "code",
   "execution_count": 98,
   "id": "1eb28ded",
   "metadata": {},
   "outputs": [],
   "source": [
    "df_vlc[[\"street\", \"area\", \"city\"]] = pd.DataFrame(df_vlc[\"location\"].apply(lambda x: x[-3:] if len(x) >= 3 else [np.nan]*(3-len(x)) + x).tolist(), index=df_vlc.index)\n",
    "df_vlc[[\"street\", \"area\", \"city\"]] = df_vlc[[\"street\", \"area\", \"city\"]].replace(\"\", np.nan)"
   ]
  },
  {
   "cell_type": "code",
   "execution_count": 99,
   "id": "eb530c77",
   "metadata": {},
   "outputs": [],
   "source": [
    "street_mean = df_vlc[df_vlc[\"prop_age\"] < 2025].groupby(\"street\")[\"prop_age\"].mean().round()\n",
    "area_mean = df_vlc[df_vlc[\"prop_age\"] < 2025].groupby(\"area\")[\"prop_age\"].mean().round()\n",
    "city_mean = df_vlc[df_vlc[\"prop_age\"] < 2025].groupby(\"city\")[\"prop_age\"].mean().round()\n",
    "global_mean = df_vlc[df_vlc[\"prop_age\"] < 2025][\"prop_age\"].mean().round()"
   ]
  },
  {
   "cell_type": "code",
   "execution_count": 100,
   "id": "ba070a7a",
   "metadata": {},
   "outputs": [],
   "source": [
    "#Filling missing values at the street level first\n",
    "df_vlc.loc[df_vlc[\"prop_age\"] == 2025 & df_vlc[\"street\"].notna(), \"prop_age\"] = df_vlc.loc[df_vlc[\"prop_age\"] == 2025 & df_vlc[\"street\"].notna(), \"street\"].map(lambda x: street_mean.get(x, 2025))\n",
    "#Filling missing values at the area level second\n",
    "df_vlc.loc[df_vlc[\"prop_age\"] == 2025 & df_vlc[\"area\"].notna(), \"prop_age\"] = df_vlc.loc[df_vlc[\"prop_age\"] == 2025 & df_vlc[\"area\"].notna(), \"area\"].map(lambda x: area_mean.get(x, 2025))\n",
    "#Filling missing values at the city level third\n",
    "df_vlc.loc[df_vlc[\"prop_age\"] == 2025 & df_vlc[\"city\"].notna(), \"prop_age\"] = df_vlc.loc[df_vlc[\"prop_age\"] == 2025 & df_vlc[\"city\"].notna(), \"city\"].map(lambda x: city_mean.get(x, 2025))\n",
    "#Filling remaining missing values with the global mean\n",
    "df_vlc.loc[df_vlc[\"prop_age\"] == 2025, \"prop_age\"] = global_mean"
   ]
  },
  {
   "cell_type": "code",
   "execution_count": 101,
   "id": "53ac57ec",
   "metadata": {},
   "outputs": [
    {
     "data": {
      "text/html": [
       "<div>\n",
       "<style scoped>\n",
       "    .dataframe tbody tr th:only-of-type {\n",
       "        vertical-align: middle;\n",
       "    }\n",
       "\n",
       "    .dataframe tbody tr th {\n",
       "        vertical-align: top;\n",
       "    }\n",
       "\n",
       "    .dataframe thead th {\n",
       "        text-align: right;\n",
       "    }\n",
       "</style>\n",
       "<table border=\"1\" class=\"dataframe\">\n",
       "  <thead>\n",
       "    <tr style=\"text-align: right;\">\n",
       "      <th></th>\n",
       "      <th>title</th>\n",
       "      <th>price</th>\n",
       "      <th>comment</th>\n",
       "      <th>features</th>\n",
       "      <th>tags</th>\n",
       "      <th>details</th>\n",
       "      <th>location</th>\n",
       "      <th>energia</th>\n",
       "      <th>id</th>\n",
       "      <th>rooms</th>\n",
       "      <th>...</th>\n",
       "      <th>missing_prop_type</th>\n",
       "      <th>missing_prop_age</th>\n",
       "      <th>price_per_m2</th>\n",
       "      <th>room_efficiency</th>\n",
       "      <th>bath_to_room_ratio</th>\n",
       "      <th>luxury_score</th>\n",
       "      <th>orientation_score</th>\n",
       "      <th>street</th>\n",
       "      <th>area</th>\n",
       "      <th>city</th>\n",
       "    </tr>\n",
       "  </thead>\n",
       "  <tbody>\n",
       "  </tbody>\n",
       "</table>\n",
       "<p>0 rows × 58 columns</p>\n",
       "</div>"
      ],
      "text/plain": [
       "Empty DataFrame\n",
       "Columns: [title, price, comment, features, tags, details, location, energia, id, rooms, baths, m2_cons, m2_property, floor, garage, balcony, terrace, lift, AC, prop_age, pool, east, north, south, west, adosado, pareado, chalet, masia, atico, duplex, estudio, piso, casa_rustica, villa, heating, trastero, fireplace, garden, wardrobes, mobility, sea_views, nuda, ocupada, rented, new, good, renovate, missing_prop_type, missing_prop_age, price_per_m2, room_efficiency, bath_to_room_ratio, luxury_score, orientation_score, street, area, city]\n",
       "Index: []\n",
       "\n",
       "[0 rows x 58 columns]"
      ]
     },
     "execution_count": 101,
     "metadata": {},
     "output_type": "execute_result"
    }
   ],
   "source": [
    "df_vlc.loc[df_vlc[\"prop_age\"] == 2025]"
   ]
  },
  {
   "cell_type": "markdown",
   "id": "703ff287",
   "metadata": {},
   "source": [
    "#### Quality Checks "
   ]
  },
  {
   "cell_type": "code",
   "execution_count": 102,
   "id": "f0443985",
   "metadata": {},
   "outputs": [
    {
     "data": {
      "text/plain": [
       "13491"
      ]
     },
     "execution_count": 102,
     "metadata": {},
     "output_type": "execute_result"
    }
   ],
   "source": [
    "sum(df_vlc[\"north\"]) + sum(df_vlc[\"south\"]) + sum(df_vlc[\"east\"]) + sum(df_vlc[\"west\"])"
   ]
  },
  {
   "cell_type": "code",
   "execution_count": 103,
   "id": "c4b79cf5",
   "metadata": {},
   "outputs": [
    {
     "data": {
      "text/plain": [
       "True"
      ]
     },
     "execution_count": 103,
     "metadata": {},
     "output_type": "execute_result"
    }
   ],
   "source": [
    "df_vlc[\"good\"].sum() + df_vlc[\"new\"].sum() + df_vlc[\"renovate\"].sum() == df_vlc.shape[0]"
   ]
  },
  {
   "cell_type": "code",
   "execution_count": 104,
   "id": "a8555566",
   "metadata": {},
   "outputs": [
    {
     "data": {
      "text/plain": [
       "True"
      ]
     },
     "execution_count": 104,
     "metadata": {},
     "output_type": "execute_result"
    }
   ],
   "source": [
    "sum(df_vlc[\"m2_cons\"] > 0) == df_vlc.shape[0]"
   ]
  },
  {
   "cell_type": "code",
   "execution_count": 105,
   "id": "f2b35335",
   "metadata": {},
   "outputs": [
    {
     "data": {
      "text/plain": [
       "False"
      ]
     },
     "execution_count": 105,
     "metadata": {},
     "output_type": "execute_result"
    }
   ],
   "source": [
    "any(df_vlc[property_type].sum(axis = 1) == 0)"
   ]
  },
  {
   "cell_type": "markdown",
   "id": "44e3bd96",
   "metadata": {},
   "source": [
    "### Deal with optional parking spaces \n",
    "\n",
    "By default, they are treated as if they have parking space, but we can create a new column called parking_price for this cases and set the parking column as False, that way that column could be treated as parking included in the price"
   ]
  },
  {
   "cell_type": "code",
   "execution_count": 106,
   "id": "c7e3c352",
   "metadata": {},
   "outputs": [],
   "source": [
    "def get_garage(row): \n",
    "    for feature in row: \n",
    "        match = re.match(r\"[a-zA-Z\\s]*garaje[a-zA-Z\\s]*(\\d+[,.]*\\d*)\", feature)\n",
    "        if match: \n",
    "            return int(match.group(1).replace(\".\", \"\"))\n",
    "    return 0 \n",
    "        \n",
    "df_vlc[\"parking_price\"] = df_vlc[\"details\"].apply(lambda x: get_garage(x))"
   ]
  },
  {
   "cell_type": "code",
   "execution_count": 107,
   "id": "58d02be3",
   "metadata": {},
   "outputs": [
    {
     "data": {
      "text/plain": [
       "['62 m²',\n",
       " '3 hab.',\n",
       " 'bajo exterior sin ascensor',\n",
       " 'garajeopc.10.000 €',\n",
       " 'garajeopc.10.000 €',\n",
       " 'opc.']"
      ]
     },
     "execution_count": 107,
     "metadata": {},
     "output_type": "execute_result"
    }
   ],
   "source": [
    "df_vlc.loc[df_vlc[\"parking_price\"] > 0, \"features\"].iloc[10] #Opcional parking spaces will have a False in the garage column, as the pattern \\bgaraje\\b is not present"
   ]
  },
  {
   "cell_type": "markdown",
   "id": "d2254718",
   "metadata": {},
   "source": [
    "### Getting the consumtion and emissions of a property \n",
    "If the energy array has size 1, it means that it doesn't have any of the attributes, if the size is 2, it contains only consumption and if the size is 3, it contains both "
   ]
  },
  {
   "cell_type": "code",
   "execution_count": 108,
   "id": "30f926cc",
   "metadata": {},
   "outputs": [],
   "source": [
    "def has_false(x): \n",
    "    for entry in x: \n",
    "        if entry == False or entry == \"False\": \n",
    "            return True \n",
    "    return False"
   ]
  },
  {
   "cell_type": "code",
   "execution_count": 109,
   "id": "ea949df5",
   "metadata": {},
   "outputs": [
    {
     "data": {
      "text/html": [
       "<div>\n",
       "<style scoped>\n",
       "    .dataframe tbody tr th:only-of-type {\n",
       "        vertical-align: middle;\n",
       "    }\n",
       "\n",
       "    .dataframe tbody tr th {\n",
       "        vertical-align: top;\n",
       "    }\n",
       "\n",
       "    .dataframe thead th {\n",
       "        text-align: right;\n",
       "    }\n",
       "</style>\n",
       "<table border=\"1\" class=\"dataframe\">\n",
       "  <thead>\n",
       "    <tr style=\"text-align: right;\">\n",
       "      <th></th>\n",
       "      <th>title</th>\n",
       "      <th>price</th>\n",
       "      <th>comment</th>\n",
       "      <th>features</th>\n",
       "      <th>tags</th>\n",
       "      <th>details</th>\n",
       "      <th>location</th>\n",
       "      <th>energia</th>\n",
       "      <th>id</th>\n",
       "      <th>rooms</th>\n",
       "      <th>...</th>\n",
       "      <th>missing_prop_age</th>\n",
       "      <th>price_per_m2</th>\n",
       "      <th>room_efficiency</th>\n",
       "      <th>bath_to_room_ratio</th>\n",
       "      <th>luxury_score</th>\n",
       "      <th>orientation_score</th>\n",
       "      <th>street</th>\n",
       "      <th>area</th>\n",
       "      <th>city</th>\n",
       "      <th>parking_price</th>\n",
       "    </tr>\n",
       "  </thead>\n",
       "  <tbody>\n",
       "  </tbody>\n",
       "</table>\n",
       "<p>0 rows × 59 columns</p>\n",
       "</div>"
      ],
      "text/plain": [
       "Empty DataFrame\n",
       "Columns: [title, price, comment, features, tags, details, location, energia, id, rooms, baths, m2_cons, m2_property, floor, garage, balcony, terrace, lift, AC, prop_age, pool, east, north, south, west, adosado, pareado, chalet, masia, atico, duplex, estudio, piso, casa_rustica, villa, heating, trastero, fireplace, garden, wardrobes, mobility, sea_views, nuda, ocupada, rented, new, good, renovate, missing_prop_type, missing_prop_age, price_per_m2, room_efficiency, bath_to_room_ratio, luxury_score, orientation_score, street, area, city, parking_price]\n",
       "Index: []\n",
       "\n",
       "[0 rows x 59 columns]"
      ]
     },
     "execution_count": 109,
     "metadata": {},
     "output_type": "execute_result"
    }
   ],
   "source": [
    "df_vlc[df_vlc[\"energia\"].apply(len) == 2 & df_vlc[\"energia\"].apply(lambda x: has_false(x))]"
   ]
  },
  {
   "cell_type": "code",
   "execution_count": 110,
   "id": "d67745e3",
   "metadata": {},
   "outputs": [],
   "source": [
    "def energy_size_two(x):\n",
    "    def safe_energy_to_num(energy_val):\n",
    "        \"\"\"Convert energy rating to number, handling uppercase/lowercase/invalid values\"\"\"\n",
    "        if isinstance(energy_val, str) and len(energy_val) == 1:\n",
    "            letter = energy_val.lower()\n",
    "            if 'a' <= letter <= 'g':\n",
    "                return ord(letter) - ord('a')\n",
    "        return -1  # Invalid/missing\n",
    "    \n",
    "    if len(x) == 1: \n",
    "        return [np.nan, np.nan]\n",
    "    elif len(x) == 2: \n",
    "        return [ord(x[0]) - ord(\"a\"), np.nan]\n",
    "    else: \n",
    "        return [ord(x[0]) - ord(\"a\"), ord(x[1]) - ord(\"a\")]"
   ]
  },
  {
   "cell_type": "code",
   "execution_count": 111,
   "id": "a577b36f",
   "metadata": {},
   "outputs": [],
   "source": [
    "df_vlc[[\"consumption\", \"emissions\"]] = pd.DataFrame(df_vlc[\"energia\"].apply(lambda x: energy_size_two(x)).to_list())"
   ]
  },
  {
   "cell_type": "code",
   "execution_count": 112,
   "id": "f2b7593f",
   "metadata": {},
   "outputs": [],
   "source": [
    "df_vlc[\"missing_consumption\"] = df_vlc[\"consumption\"].isna() \n",
    "df_vlc[\"missing_emissions\"] = df_vlc[\"emissions\"].isna() "
   ]
  },
  {
   "cell_type": "code",
   "execution_count": 113,
   "id": "5a57faf2",
   "metadata": {},
   "outputs": [],
   "source": [
    "df_vlc.loc[df_vlc[\"consumption\"].isna(), \"consumption\"] = -1 \n",
    "df_vlc.loc[df_vlc[\"emissions\"].isna(), \"emissions\"] = -1 \n",
    "df_vlc[\"consumption\"] = df_vlc[\"consumption\"].astype(\"int64\") \n",
    "df_vlc[\"emissions\"] = df_vlc[\"emissions\"].astype(\"int64\")"
   ]
  },
  {
   "cell_type": "markdown",
   "id": "d26cc07a",
   "metadata": {},
   "source": [
    "### Getting the latitude and longitude based on the location"
   ]
  },
  {
   "cell_type": "code",
   "execution_count": 114,
   "id": "c661fdff",
   "metadata": {},
   "outputs": [],
   "source": [
    "df_vlc.reset_index(inplace = True) "
   ]
  },
  {
   "cell_type": "code",
   "execution_count": 115,
   "id": "9db95ddd",
   "metadata": {},
   "outputs": [],
   "source": [
    "df_lat_lon = pd.read_csv(\"../working_data/lat_lon_vlc.csv\")"
   ]
  },
  {
   "cell_type": "code",
   "execution_count": 116,
   "id": "76e98b2e",
   "metadata": {},
   "outputs": [],
   "source": [
    "df_vlc[[\"latitude\", \"longitude\"]] = df_lat_lon"
   ]
  },
  {
   "cell_type": "markdown",
   "id": "1af9f883",
   "metadata": {},
   "source": [
    "#### Training a clustering algorithm for the latitude and longitude "
   ]
  },
  {
   "cell_type": "code",
   "execution_count": 117,
   "id": "f08b2447",
   "metadata": {},
   "outputs": [],
   "source": [
    "coords = df_vlc.loc[df_vlc[\"latitude\"].notna(), [\"latitude\", \"longitude\"]].values"
   ]
  },
  {
   "cell_type": "code",
   "execution_count": 118,
   "id": "32748e85",
   "metadata": {},
   "outputs": [],
   "source": [
    "K_range = range(4, 35)  # you can adjust the range\n",
    "inertia_values = []\n",
    "for k in K_range:\n",
    "    kmeans = KMeans(n_clusters=k, random_state=42)\n",
    "    kmeans.fit(coords)\n",
    "    inertia_values.append(kmeans.inertia_)"
   ]
  },
  {
   "cell_type": "code",
   "execution_count": 119,
   "id": "748d2647",
   "metadata": {},
   "outputs": [
    {
     "data": {
      "image/png": "[encoded data removed]",
      "text/plain": [
       "<Figure size 600x400 with 1 Axes>"
      ]
     },
     "metadata": {},
     "output_type": "display_data"
    }
   ],
   "source": [
    "plt.figure(figsize=(6,4))\n",
    "plt.plot(K_range, inertia_values, marker='o')\n",
    "plt.xlabel('Number of clusters (k)')\n",
    "plt.ylabel('Inertia')\n",
    "plt.title('Elbow Method for KMeans Clustering')\n",
    "plt.grid(True)\n",
    "plt.show()"
   ]
  },
  {
   "cell_type": "code",
   "execution_count": 120,
   "id": "c11699af",
   "metadata": {},
   "outputs": [],
   "source": [
    "optimal_k = 20 #We need to look for an elbow in the image, as that will determine where adding more clusters doesn't affect that much the inertia (distance from cluster centroid to point). \n",
    "kmeans = KMeans(n_clusters=optimal_k, random_state=42)\n",
    "df_vlc[\"location_cluster\"] = -1 #for NaN values \n",
    "df_vlc.loc[df_vlc[\"latitude\"].notna(), \"location_cluster\"] = kmeans.fit_predict(coords)"
   ]
  },
  {
   "cell_type": "markdown",
   "id": "744876d6",
   "metadata": {},
   "source": [
    "#### Removing the columns where we extracted the data \n",
    "Now that we've already extracted the data from the columns, we will delete them, as they shouldn't be passed to the ML algorithm. "
   ]
  },
  {
   "cell_type": "code",
   "execution_count": 121,
   "id": "c4013263",
   "metadata": {},
   "outputs": [
    {
     "data": {
      "text/plain": [
       "Index(['index', 'title', 'price', 'comment', 'features', 'tags', 'details',\n",
       "       'location', 'energia', 'id', 'rooms', 'baths', 'm2_cons', 'm2_property',\n",
       "       'floor', 'garage', 'balcony', 'terrace', 'lift', 'AC', 'prop_age',\n",
       "       'pool', 'east', 'north', 'south', 'west', 'adosado', 'pareado',\n",
       "       'chalet', 'masia', 'atico', 'duplex', 'estudio', 'piso', 'casa_rustica',\n",
       "       'villa', 'heating', 'trastero', 'fireplace', 'garden', 'wardrobes',\n",
       "       'mobility', 'sea_views', 'nuda', 'ocupada', 'rented', 'new', 'good',\n",
       "       'renovate', 'missing_prop_type', 'missing_prop_age', 'price_per_m2',\n",
       "       'room_efficiency', 'bath_to_room_ratio', 'luxury_score',\n",
       "       'orientation_score', 'street', 'area', 'city', 'parking_price',\n",
       "       'consumption', 'emissions', 'missing_consumption', 'missing_emissions',\n",
       "       'latitude', 'longitude', 'location_cluster'],\n",
       "      dtype='object')"
      ]
     },
     "execution_count": 121,
     "metadata": {},
     "output_type": "execute_result"
    }
   ],
   "source": [
    "df_vlc.columns"
   ]
  },
  {
   "cell_type": "code",
   "execution_count": 122,
   "id": "63eb3e6d",
   "metadata": {},
   "outputs": [
    {
     "name": "stdout",
     "output_type": "stream",
     "text": [
      "Creating high-impact engineered features...\n",
      "Adding advanced accuracy-boosting features...\n",
      "Adding final accuracy-maximizing features...\n",
      "Advanced feature engineering completed!\n",
      "Final quality filter removes 241 additional problematic entries\n"
     ]
    }
   ],
   "source": [
    "del_columns = [\"index\", \"title\", \"comment\", \"features\", \"tags\", \"details\", \"location\", \"energia\", \"id\", \"street\", \"area\", \"city\", \"latitude\", \"longitude\"]\n",
    "\n",
    "# CRITICAL: Add high-impact engineered features before dropping location data\n",
    "print(\"Creating high-impact engineered features...\")\n",
    "\n",
    "# 1. Price per square meter (most predictive feature for real estate)\n",
    "df_vlc[\"price_per_m2\"] = df_vlc[\"price\"] / df_vlc[\"m2_cons\"].replace(0, np.nan)\n",
    "df_vlc[\"price_per_m2\"] = df_vlc[\"price_per_m2\"].fillna(df_vlc[\"price_per_m2\"].median())\n",
    "\n",
    "# 2. Room and space efficiency ratios\n",
    "df_vlc[\"room_efficiency\"] = df_vlc[\"rooms\"] / df_vlc[\"m2_cons\"].replace(0, np.nan)\n",
    "df_vlc[\"room_efficiency\"] = df_vlc[\"room_efficiency\"].fillna(df_vlc[\"room_efficiency\"].median())\n",
    "df_vlc[\"bath_to_room_ratio\"] = df_vlc[\"baths\"] / df_vlc[\"rooms\"].replace(0, np.nan)\n",
    "df_vlc[\"bath_to_room_ratio\"] = df_vlc[\"bath_to_room_ratio\"].fillna(0.5)\n",
    "\n",
    "# 3. Location-based price statistics (by cluster, computed properly)\n",
    "cluster_price_stats = df_vlc.groupby(\"location_cluster\")[\"price_per_m2\"].agg(['mean', 'median', 'std']).fillna(0)\n",
    "df_vlc[\"cluster_price_mean\"] = df_vlc[\"location_cluster\"].map(cluster_price_stats[\"mean\"]).fillna(cluster_price_stats[\"mean\"].median())\n",
    "df_vlc[\"cluster_price_std\"] = df_vlc[\"location_cluster\"].map(cluster_price_stats[\"std\"]).fillna(cluster_price_stats[\"std\"].median())\n",
    "df_vlc[\"price_vs_cluster\"] = (df_vlc[\"price_per_m2\"] - df_vlc[\"cluster_price_mean\"]) / (df_vlc[\"cluster_price_std\"] + 1e-6)\n",
    "\n",
    "# 4. Age and condition interaction\n",
    "df_vlc[\"age_condition_score\"] = df_vlc[\"prop_age\"] * (df_vlc[\"renovate\"] * 2 + df_vlc[\"good\"] * 1 + df_vlc[\"new\"] * 0.1)\n",
    "\n",
    "# 5. Luxury score (combination of high-end features)\n",
    "luxury_features = [\"sea_views\", \"pool\", \"garden\", \"fireplace\", \"AC\", \"lift\"]\n",
    "df_vlc[\"luxury_score\"] = df_vlc[luxury_features].sum(axis=1)\n",
    "df_vlc[\"luxury_per_m2\"] = df_vlc[\"luxury_score\"] / df_vlc[\"m2_cons\"].replace(0, np.nan)\n",
    "df_vlc[\"luxury_per_m2\"] = df_vlc[\"luxury_per_m2\"].fillna(0)\n",
    "\n",
    "# 6. Property type tiers (group similar types)\n",
    "df_vlc[\"is_house\"] = df_vlc[\"chalet\"] | df_vlc[\"villa\"] | df_vlc[\"masia\"] | df_vlc[\"casa_rustica\"]\n",
    "df_vlc[\"is_apartment\"] = df_vlc[\"piso\"] | df_vlc[\"atico\"] | df_vlc[\"duplex\"]\n",
    "df_vlc[\"is_small\"] = df_vlc[\"estudio\"]\n",
    "\n",
    "# 7. Orientation score (south-facing is premium in Spain)\n",
    "df_vlc[\"orientation_score\"] = (df_vlc[\"south\"] * 2 + df_vlc[\"east\"] * 1 + df_vlc[\"west\"] * 1 + df_vlc[\"north\"] * 0.5)\n",
    "\n",
    "# 8. Feature density (amenities per square meter)\n",
    "amenity_features = [\"garage\", \"balcony\", \"terrace\", \"trastero\", \"wardrobes\"]\n",
    "df_vlc[\"amenity_count\"] = df_vlc[amenity_features].sum(axis=1)\n",
    "df_vlc[\"amenity_density\"] = df_vlc[\"amenity_count\"] / df_vlc[\"m2_cons\"].replace(0, np.nan)\n",
    "df_vlc[\"amenity_density\"] = df_vlc[\"amenity_density\"].fillna(0)\n",
    "\n",
    "# 9. Advanced price modeling features\n",
    "print(\"Adding advanced accuracy-boosting features...\")\n",
    "\n",
    "# Floor interaction with property type (penthouse premium, ground floor discount)\n",
    "df_vlc[\"top_floor\"] = (df_vlc[\"floor\"] >= 5) & df_vlc[\"is_apartment\"]  # premium for high floors\n",
    "df_vlc[\"ground_floor\"] = (df_vlc[\"floor\"] <= 1) & df_vlc[\"is_apartment\"]  # potential discount\n",
    "\n",
    "# Size categorization (market segments behave differently)\n",
    "df_vlc[\"is_tiny\"] = df_vlc[\"m2_cons\"] <= 50\n",
    "df_vlc[\"is_small_apt\"] = (df_vlc[\"m2_cons\"] > 50) & (df_vlc[\"m2_cons\"] <= 80)\n",
    "df_vlc[\"is_medium\"] = (df_vlc[\"m2_cons\"] > 80) & (df_vlc[\"m2_cons\"] <= 120)\n",
    "df_vlc[\"is_large\"] = (df_vlc[\"m2_cons\"] > 120) & (df_vlc[\"m2_cons\"] <= 200)\n",
    "df_vlc[\"is_mansion\"] = df_vlc[\"m2_cons\"] > 200\n",
    "\n",
    "# Age-based pricing patterns (new vs vintage premium)\n",
    "df_vlc[\"is_vintage\"] = df_vlc[\"prop_age\"] >= 50\n",
    "df_vlc[\"optimal_age\"] = (df_vlc[\"prop_age\"] >= 10) & (df_vlc[\"prop_age\"] <= 30)  # sweet spot\n",
    "\n",
    "# Property completeness and quality score\n",
    "df_vlc[\"has_outdoor\"] = df_vlc[\"balcony\"] | df_vlc[\"terrace\"] | df_vlc[\"garden\"]\n",
    "df_vlc[\"has_storage\"] = df_vlc[\"trastero\"] | df_vlc[\"wardrobes\"]\n",
    "df_vlc[\"convenience_score\"] = (df_vlc[\"lift\"] * 1 + df_vlc[\"garage\"] * 2 + \n",
    "                               df_vlc[\"has_storage\"] * 1 + df_vlc[\"AC\"] * 1)\n",
    "\n",
    "# Energy efficiency premium (modern buyers care about this)\n",
    "df_vlc[\"energy_premium\"] = (df_vlc[\"consumption\"] <= 2) & (~df_vlc[\"missing_consumption\"])\n",
    "df_vlc[\"energy_penalty\"] = (df_vlc[\"consumption\"] >= 5) & (~df_vlc[\"missing_consumption\"])\n",
    "\n",
    "# Location quality indicators\n",
    "cluster_luxury_mean = df_vlc.groupby(\"location_cluster\")[\"luxury_score\"].mean()\n",
    "df_vlc[\"cluster_luxury_level\"] = df_vlc[\"location_cluster\"].map(cluster_luxury_mean).fillna(0)\n",
    "df_vlc[\"is_premium_location\"] = df_vlc[\"cluster_luxury_level\"] > df_vlc[\"cluster_luxury_level\"].quantile(0.8)\n",
    "\n",
    "# Property configuration quality\n",
    "df_vlc[\"room_size_balance\"] = df_vlc[\"m2_cons\"] / (df_vlc[\"rooms\"] + df_vlc[\"baths\"])  # average room size\n",
    "df_vlc[\"bathroom_luxury\"] = df_vlc[\"baths\"] > df_vlc[\"rooms\"] * 0.6  # high bath-to-room ratio\n",
    "df_vlc[\"space_efficiency\"] = (df_vlc[\"m2_property\"] > 0) * (df_vlc[\"m2_cons\"] / df_vlc[\"m2_property\"])\n",
    "\n",
    "# Market segment indicators (different segments price differently)\n",
    "df_vlc[\"family_home\"] = df_vlc[\"is_house\"] & (df_vlc[\"rooms\"] >= 3) & df_vlc[\"garden\"]\n",
    "df_vlc[\"luxury_property\"] = (df_vlc[\"luxury_score\"] >= 3) & (df_vlc[\"m2_cons\"] >= 100)\n",
    "\n",
    "df_vlc[\"orientation_score\"] = (df_vlc[\"south\"] * 2 + df_vlc[\"east\"] * 1 + df_vlc[\"west\"] * 1 + df_vlc[\"north\"] * 0.5)\n",
    "\n",
    "# 10. ADVANCED FEATURES FOR MAXIMUM ACCURACY\n",
    "print(\"Adding final accuracy-maximizing features...\")\n",
    "\n",
    "# Ratio-based features (capture relative value)\n",
    "df_vlc[\"m2_property_ratio\"] = df_vlc[\"m2_property\"] / (df_vlc[\"m2_cons\"] + 1)  # land vs built ratio\n",
    "df_vlc[\"amenity_per_room\"] = df_vlc[\"amenity_count\"] / df_vlc[\"rooms\"]\n",
    "\n",
    "# Quality interaction terms\n",
    "df_vlc[\"total_quality\"] = (df_vlc[\"luxury_score\"] + df_vlc[\"convenience_score\"] + \n",
    "                          df_vlc[\"orientation_score\"])\n",
    "df_vlc[\"quality_per_euro\"] = df_vlc[\"total_quality\"] / (df_vlc[\"price\"] / 100000)  # normalized\n",
    "df_vlc[\"quality_size_fit\"] = df_vlc[\"total_quality\"] * df_vlc[\"room_size_balance\"]\n",
    "\n",
    "# Target transformation hint for the training phase\n",
    "print(\"Advanced feature engineering completed!\")\n",
    "\n",
    "# Final data quality filter (remove remaining problematic cases)\n",
    "final_quality_mask = (\n",
    "    (df_vlc[\"m2_cons\"] >= 20) &  # minimum reasonable size\n",
    "    (df_vlc[\"price\"] >= 30000) &  # minimum reasonable price\n",
    "    (df_vlc[\"rooms\"] <= 10) &     # maximum reasonable rooms\n",
    "    (df_vlc[\"prop_age\"] >= 0) &   # valid age\n",
    "    (df_vlc[\"price_per_m2\"] >= 200) & (df_vlc[\"price_per_m2\"] <= 8000)  # reasonable price per m2\n",
    ")\n",
    "\n",
    "print(f\"Final quality filter removes {(~final_quality_mask).sum()} additional problematic entries\")\n",
    "df_vlc = df_vlc[final_quality_mask].copy()\n",
    "\n",
    "df_vlc.drop(columns = del_columns, inplace = True)"
   ]
  },
  {
   "cell_type": "code",
   "execution_count": 123,
   "id": "45ae32b6",
   "metadata": {},
   "outputs": [],
   "source": [
    "df_vlc.to_csv(\"../working_data/properties_vlc_clean2.csv\", index = False)"
   ]
  },
  {
   "cell_type": "markdown",
   "id": "62159b78",
   "metadata": {},
   "source": [
    "#### Printing the number of not empty ocurrences and percetange of all columns"
   ]
  },
  {
   "cell_type": "code",
   "execution_count": 124,
   "id": "060bfecb",
   "metadata": {},
   "outputs": [
    {
     "name": "stdout",
     "output_type": "stream",
     "text": [
      "rooms: 15726 -> 100.00%\n",
      "baths: 15726 -> 100.00%\n",
      "m2_cons: 15726 -> 100.00%\n",
      "m2_property: 15726 -> 100.00%\n",
      "floor: 12074 -> 76.78%\n",
      "garage: 6892 -> 43.83%\n",
      "balcony: 6246 -> 39.72%\n",
      "terrace: 9651 -> 61.37%\n",
      "lift: 4879 -> 31.03%\n",
      "AC: 7432 -> 47.26%\n",
      "prop_age: 15726 -> 100.00%\n",
      "pool: 4494 -> 28.58%\n",
      "east: 4579 -> 29.12%\n",
      "north: 2363 -> 15.03%\n",
      "south: 3753 -> 23.86%\n",
      "west: 2656 -> 16.89%\n",
      "adosado: 2128 -> 13.53%\n",
      "pareado: 632 -> 4.02%\n",
      "chalet: 3909 -> 24.86%\n",
      "masia: 31 -> 0.20%\n",
      "atico: 510 -> 3.24%\n",
      "duplex: 379 -> 2.41%\n",
      "estudio: 0 -> 0.00%\n",
      "piso: 6596 -> 41.94%\n",
      "casa_rustica: 782 -> 4.97%\n",
      "villa: 774 -> 4.92%\n",
      "heating: 5611 -> 35.68%\n",
      "trastero: 6514 -> 41.42%\n",
      "fireplace: 416 -> 2.65%\n",
      "garden: 3869 -> 24.60%\n",
      "wardrobes: 8117 -> 51.62%\n",
      "mobility: 2158 -> 13.72%\n",
      "sea_views: 1072 -> 6.82%\n",
      "nuda: 66 -> 0.42%\n",
      "ocupada: 180 -> 1.14%\n",
      "rented: 324 -> 2.06%\n",
      "new: 623 -> 3.96%\n",
      "good: 12972 -> 82.49%\n",
      "renovate: 2131 -> 13.55%\n",
      "missing_prop_type: 589 -> 3.75%\n",
      "missing_prop_age: 6476 -> 41.18%\n",
      "luxury_score: 11559 -> 73.50%\n",
      "parking_price: 285 -> 1.81%\n",
      "consumption: 4583 -> 29.14%\n",
      "emissions: 4212 -> 26.78%\n",
      "missing_consumption: 10752 -> 68.37%\n",
      "missing_emissions: 11083 -> 70.48%\n",
      "location_cluster: 13904 -> 88.41%\n",
      "is_house: 5485 -> 34.88%\n",
      "is_apartment: 7485 -> 47.60%\n",
      "is_small: 0 -> 0.00%\n",
      "amenity_count: 13282 -> 84.46%\n",
      "top_floor: 1236 -> 7.86%\n",
      "ground_floor: 3139 -> 19.96%\n",
      "is_tiny: 104 -> 0.66%\n",
      "is_small_apt: 1887 -> 12.00%\n",
      "is_medium: 4059 -> 25.81%\n",
      "is_large: 4403 -> 28.00%\n",
      "is_mansion: 5273 -> 33.53%\n",
      "is_vintage: 3934 -> 25.02%\n",
      "optimal_age: 3022 -> 19.22%\n",
      "has_outdoor: 12146 -> 77.24%\n",
      "has_storage: 10335 -> 65.72%\n",
      "convenience_score: 12865 -> 81.81%\n",
      "energy_premium: 1418 -> 9.02%\n",
      "energy_penalty: 907 -> 5.77%\n",
      "is_premium_location: 2791 -> 17.75%\n",
      "bathroom_luxury: 7483 -> 47.58%\n",
      "family_home: 2805 -> 17.84%\n",
      "luxury_property: 2520 -> 16.02%\n"
     ]
    }
   ],
   "source": [
    "for col in df_vlc.columns: \n",
    "    if df_vlc[col].dtype == \"int64\":\n",
    "        print(f\"{col}: {sum(df_vlc[col] > 0)} -> {sum(df_vlc[col] > 0) / df_vlc.shape[0]:.2%}\")\n",
    "    elif df_vlc[col].dtype == \"bool\": \n",
    "        print(f\"{col}: {sum(df_vlc[col])} -> {sum(df_vlc[col]) / df_vlc.shape[0]:.2%}\")"
   ]
  },
  {
   "cell_type": "code",
   "execution_count": null,
   "id": "8244e7b9",
   "metadata": {},
   "outputs": [],
   "source": []
  }
 ],
 "metadata": {
  "kernelspec": {
   "display_name": "data_env",
   "language": "python",
   "name": "python3"
  },
  "language_info": {
   "codemirror_mode": {
    "name": "ipython",
    "version": 3
   },
   "file_extension": ".py",
   "mimetype": "text/x-python",
   "name": "python",
   "nbconvert_exporter": "python",
   "pygments_lexer": "ipython3",
   "version": "3.12.7"
  }
 },
 "nbformat": 4,
 "nbformat_minor": 5
}
